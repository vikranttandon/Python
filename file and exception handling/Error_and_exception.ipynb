{
 "cells": [
  {
   "cell_type": "markdown",
   "id": "fifty-repeat",
   "metadata": {},
   "source": [
    "# Introduction"
   ]
  },
  {
   "cell_type": "markdown",
   "id": "raised-usage",
   "metadata": {},
   "source": [
    "Errors encountered at the time of execution(runtime) are called exceptions."
   ]
  },
  {
   "cell_type": "markdown",
   "id": "entertaining-desktop",
   "metadata": {},
   "source": [
    "### Error handling 1"
   ]
  },
  {
   "cell_type": "markdown",
   "id": "suburban-spell",
   "metadata": {},
   "source": [
    "To cover exceptional cases we use __try and except__ blocks, \n",
    "- __try block__: \n",
    "             Any process which would give error during runtime for some values,\n",
    "             must be executed within a try block.\n",
    "             The try block will see if the process executes without an error, \n",
    "             if it doesn't then the code written in the except block will execute.\n",
    "- __except block__: \n",
    "              If and ony if the process defined in the try block pops up an error,\n",
    "              the code written in the except block executes."
   ]
  },
  {
   "cell_type": "code",
   "execution_count": 1,
   "id": "distant-anime",
   "metadata": {},
   "outputs": [],
   "source": [
    "# For instance a function defined to execute division for 2 numbers\n",
    "def div(a,b):\n",
    "    try:\n",
    "        print(a/b)\n",
    "    except:\n",
    "        print('error')"
   ]
  },
  {
   "cell_type": "code",
   "execution_count": 3,
   "id": "ignored-tradition",
   "metadata": {},
   "outputs": [
    {
     "name": "stdout",
     "output_type": "stream",
     "text": [
      "2.0\n",
      "error\n"
     ]
    }
   ],
   "source": [
    "div(10,5)\n",
    "div(10,0)"
   ]
  },
  {
   "cell_type": "markdown",
   "id": "nuclear-continent",
   "metadata": {},
   "source": [
    "### Error handling 2"
   ]
  },
  {
   "cell_type": "markdown",
   "id": "outside-warning",
   "metadata": {},
   "source": [
    "There are exception classes, \n",
    "for the above example:\n"
   ]
  },
  {
   "cell_type": "code",
   "execution_count": 6,
   "id": "indonesian-election",
   "metadata": {},
   "outputs": [
    {
     "ename": "ZeroDivisionError",
     "evalue": "division by zero",
     "output_type": "error",
     "traceback": [
      "\u001b[1;31m---------------------------------------------------------------------------\u001b[0m",
      "\u001b[1;31mZeroDivisionError\u001b[0m                         Traceback (most recent call last)",
      "\u001b[1;32m<ipython-input-6-fe01563e1bc6>\u001b[0m in \u001b[0;36m<module>\u001b[1;34m\u001b[0m\n\u001b[1;32m----> 1\u001b[1;33m \u001b[0mprint\u001b[0m\u001b[1;33m(\u001b[0m\u001b[1;36m10\u001b[0m\u001b[1;33m/\u001b[0m\u001b[1;36m0\u001b[0m\u001b[1;33m)\u001b[0m\u001b[1;33m\u001b[0m\u001b[1;33m\u001b[0m\u001b[0m\n\u001b[0m",
      "\u001b[1;31mZeroDivisionError\u001b[0m: division by zero"
     ]
    }
   ],
   "source": [
    "print(10/0)"
   ]
  },
  {
   "cell_type": "markdown",
   "id": "complicated-atlanta",
   "metadata": {},
   "source": [
    "Pops up an exception of class __ZeroDivisionError__ and the exception type __division by zero__.\n",
    "So, the except block also takes in arguments i.e:"
   ]
  },
  {
   "cell_type": "code",
   "execution_count": 7,
   "id": "twenty-miller",
   "metadata": {},
   "outputs": [
    {
     "name": "stdout",
     "output_type": "stream",
     "text": [
      "trying to divide by zero\n"
     ]
    }
   ],
   "source": [
    "try:\n",
    "    print(10/0)\n",
    "except ZeroDivisionError: \n",
    "    print(\"trying to divide by zero\")"
   ]
  },
  {
   "cell_type": "markdown",
   "id": "active-mozambique",
   "metadata": {},
   "source": [
    "But now in this except block, we'll only be catching exceptions caused by zero division.\n",
    "we can also declare multiple exception classes i.e:"
   ]
  },
  {
   "cell_type": "code",
   "execution_count": 15,
   "id": "personalized-newcastle",
   "metadata": {},
   "outputs": [
    {
     "name": "stdout",
     "output_type": "stream",
     "text": [
      "trying to divide by zero\n"
     ]
    }
   ],
   "source": [
    "try:\n",
    "    print(10/0)\n",
    "    a = int(\"astral\")\n",
    "except ZeroDivisionError:\n",
    "    print(\"trying to divide by zero\")\n",
    "except ValueError:\n",
    "    print(\"invalid conversion\")"
   ]
  },
  {
   "cell_type": "code",
   "execution_count": 17,
   "id": "angry-portsmouth",
   "metadata": {},
   "outputs": [
    {
     "name": "stdout",
     "output_type": "stream",
     "text": [
      "division by zero\n"
     ]
    }
   ],
   "source": [
    "try:\n",
    "    print(10/0)\n",
    "except Exception as e:\n",
    "    print(e)"
   ]
  },
  {
   "cell_type": "markdown",
   "id": "preceding-aberdeen",
   "metadata": {},
   "source": [
    "### Error handling 3"
   ]
  },
  {
   "cell_type": "code",
   "execution_count": 20,
   "id": "legislative-feature",
   "metadata": {},
   "outputs": [
    {
     "name": "stdout",
     "output_type": "stream",
     "text": [
      "division by zero\n",
      "<class 'ZeroDivisionError'>\n"
     ]
    }
   ],
   "source": [
    "try:\n",
    "    print(10/0)\n",
    "except Exception as e: # Exception is a base class from which all exception classes are derived\n",
    "    print(str(e))\n",
    "    print(type(e)) #printing out type of exception"
   ]
  },
  {
   "cell_type": "markdown",
   "id": "virgin-component",
   "metadata": {},
   "source": [
    "To raise a custom exception using a statement:\n",
    "- raise"
   ]
  },
  {
   "cell_type": "code",
   "execution_count": 22,
   "id": "desirable-raleigh",
   "metadata": {},
   "outputs": [
    {
     "name": "stdout",
     "output_type": "stream",
     "text": [
      "('My custom error', 1, 2, 3)\n",
      "('My custom error', 1, 2, 3)\n"
     ]
    }
   ],
   "source": [
    "try:\n",
    "    raise Exception(\"My custom error\",1,2,3) # The code wont excecute further after we've raised an error, takes in  *args\n",
    "except Exception as e:\n",
    "    print(e)\n",
    "    print(e.args)"
   ]
  },
  {
   "cell_type": "markdown",
   "id": "communist-submission",
   "metadata": {},
   "source": [
    "A custom class of exception for custom message"
   ]
  },
  {
   "cell_type": "code",
   "execution_count": 34,
   "id": "painted-fireplace",
   "metadata": {},
   "outputs": [
    {
     "name": "stdout",
     "output_type": "stream",
     "text": [
      "exceptions must derive from BaseException\n"
     ]
    }
   ],
   "source": [
    "class custom_exception:\n",
    "    def __init__(self,message):\n",
    "        self.message = message\n",
    "    def __str__(self):\n",
    "        return self.message\n",
    "try:\n",
    "    raise custom_exception(\"this exception has been raised by astral\")\n",
    "except Exception as e:\n",
    "    print(e)\n",
    "    \n",
    "# This doesn't work because all of the custom exception classes must also derive from the base exception class\n",
    "# i.e BaseException or Exception"
   ]
  },
  {
   "cell_type": "code",
   "execution_count": 44,
   "id": "infrared-beach",
   "metadata": {},
   "outputs": [],
   "source": [
    "class new_custom_exception(Exception):\n",
    "    def __init__(self,message):\n",
    "        self.message = message\n",
    "    def __str__(self):\n",
    "        return self.message"
   ]
  },
  {
   "cell_type": "code",
   "execution_count": 46,
   "id": "secondary-struggle",
   "metadata": {},
   "outputs": [
    {
     "name": "stdout",
     "output_type": "stream",
     "text": [
      "this exception has been raised by astral\n",
      "<class '__main__.new_custom_exception'>\n",
      "this exception has been raised by astral\n"
     ]
    }
   ],
   "source": [
    "try:\n",
    "    raise new_custom_exception(\"this exception has been raised by astral\")\n",
    "except Exception as e:\n",
    "    print(e)\n",
    "    print(type(e))\n",
    "    print(e.message)"
   ]
  },
  {
   "cell_type": "markdown",
   "id": "quality-richardson",
   "metadata": {},
   "source": [
    "### Error handling 4"
   ]
  },
  {
   "cell_type": "markdown",
   "id": "atomic-pizza",
   "metadata": {},
   "source": [
    "The __finally block__ can be used a predef cleanup action.\n",
    "For instance, \n",
    "closing a file can be taken care of in a finally block "
   ]
  },
  {
   "cell_type": "code",
   "execution_count": 55,
   "id": "special-stick",
   "metadata": {},
   "outputs": [
    {
     "name": "stdout",
     "output_type": "stream",
     "text": [
      "This file has been created by astral_projected for\n",
      "testing exception handling in python \n",
      "The file has been closed\n"
     ]
    }
   ],
   "source": [
    "try:\n",
    "    file = open(\"error_handling4.txt\",\"r\") # If a file that doesn't yet exist was passed as an arg, error would have popped up\n",
    "    print(file.read())\n",
    "except Exception as e:\n",
    "    print(e)\n",
    "finally:\n",
    "    print(\"The file has been closed\")\n",
    "    file.close()\n",
    "\n",
    "# with block always handles these pre def clean up actions"
   ]
  },
  {
   "cell_type": "markdown",
   "id": "plain-going",
   "metadata": {},
   "source": [
    "    The with block works with an object that has 2 dunders. \n",
    "To make any class compatible with __with__ we'll have to override those 2 dunders:\n",
    "- __enter__\n",
    "- __exit__"
   ]
  },
  {
   "cell_type": "code",
   "execution_count": 76,
   "id": "pharmaceutical-nation",
   "metadata": {},
   "outputs": [],
   "source": [
    "class aux: # Making aux compatible with (with block)\n",
    "    def __init__(self,n):\n",
    "        print(\"in init block\")\n",
    "        self.n = n\n",
    "    def __str__(self):\n",
    "        return str(self.n)\n",
    "    \n",
    "    def __enter__(self): \n",
    "        print(\"in enter block\")\n",
    "        return self\n",
    "    def __exit__(self,*args):\n",
    "        print(args) # These args are the exceptions that might get raised\n",
    "        return True \n",
    "        # We return true after handling all those exceptions, if we return false, then it will pop up error"
   ]
  },
  {
   "cell_type": "markdown",
   "id": "positive-rehabilitation",
   "metadata": {},
   "source": [
    "### __inint__ vs __enter__\n",
    " The order of execution of blocks:\n",
    "-  __init__ (allocation of the class)\n",
    "- __enter__ (enter context)\n",
    "- __exit__ (leaving context)\n"
   ]
  },
  {
   "cell_type": "markdown",
   "id": "rough-marijuana",
   "metadata": {},
   "source": [
    "#### A smarter way of creation of object"
   ]
  },
  {
   "cell_type": "code",
   "execution_count": 77,
   "id": "offensive-blocking",
   "metadata": {},
   "outputs": [
    {
     "name": "stdout",
     "output_type": "stream",
     "text": [
      "in init block\n",
      "in enter block\n",
      "5\n",
      "(<class 'ZeroDivisionError'>, ZeroDivisionError('division by zero'), <traceback object at 0x000001CAA99A3500>)\n",
      "outside\n"
     ]
    }
   ],
   "source": [
    "with aux(5) as obj: # execution of with block starts with enter block and it returns self object for aux(5), whose value gets stored in object a!\n",
    "    print(obj) #The object obj exists outside this block as well\n",
    "    raise(10/0) #Now the agrs will print the exception.\n",
    "\n",
    "print(\"outside\")"
   ]
  },
  {
   "cell_type": "code",
   "execution_count": 86,
   "id": "preliminary-motor",
   "metadata": {},
   "outputs": [
    {
     "name": "stdout",
     "output_type": "stream",
     "text": [
      "in init block\n",
      "in enter block\n",
      "(<class 'ZeroDivisionError'>, ZeroDivisionError('division by zero'), <traceback object at 0x000001CAA99AC680>)\n"
     ]
    }
   ],
   "source": [
    "with aux(52) as obj:\n",
    "    obj.n = 30/0\n",
    "    print(obj)"
   ]
  },
  {
   "cell_type": "code",
   "execution_count": 94,
   "id": "abandoned-fetish",
   "metadata": {},
   "outputs": [],
   "source": [
    "class aux2:\n",
    "    def __init__(self):\n",
    "        self.val = int()\n",
    "    def __str__(self):\n",
    "        return str(self.val)\n",
    "    \n",
    "    def __enter__(self):\n",
    "        return self\n",
    "    def __exit__(self,*args):\n",
    "        print(args)\n",
    "        return True "
   ]
  },
  {
   "cell_type": "code",
   "execution_count": 99,
   "id": "piano-above",
   "metadata": {},
   "outputs": [
    {
     "name": "stdout",
     "output_type": "stream",
     "text": [
      "(<class 'ZeroDivisionError'>, ZeroDivisionError('division by zero'), <traceback object at 0x000001CAA9974E80>)\n",
      "0\n"
     ]
    }
   ],
   "source": [
    "with aux2() as aux2_obj:\n",
    "    aux2_obj.val = 90/0\n",
    "print(aux2_obj)  "
   ]
  }
 ],
 "metadata": {
  "kernelspec": {
   "display_name": "Python 3",
   "language": "python",
   "name": "python3"
  },
  "language_info": {
   "codemirror_mode": {
    "name": "ipython",
    "version": 3
   },
   "file_extension": ".py",
   "mimetype": "text/x-python",
   "name": "python",
   "nbconvert_exporter": "python",
   "pygments_lexer": "ipython3",
   "version": "3.9.1"
  }
 },
 "nbformat": 4,
 "nbformat_minor": 5
}
