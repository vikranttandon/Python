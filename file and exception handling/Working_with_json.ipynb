{
 "cells": [
  {
   "cell_type": "markdown",
   "id": "advanced-premiere",
   "metadata": {},
   "source": [
    "# Introduction"
   ]
  },
  {
   "cell_type": "markdown",
   "id": "handmade-domain",
   "metadata": {},
   "source": [
    "A common way to encode data, so that we could transfer the data. Earlier it was done by XML.\n",
    " - It is commonly used for transmitting data in web applications (e.g., sending some data from the server to the client, so it can be displayed on a web page, or vice versa).\n",
    " - JSON uses less data overall, so you reduce the cost and increase the parsing speed. \n",
    " - Readable: The JSON structure is straightforward and readable. You have an easier time mapping to domain objects\n",
    "\n",
    "JSON is similar to dictionaries in python"
   ]
  },
  {
   "cell_type": "markdown",
   "id": "recent-forward",
   "metadata": {},
   "source": [
    "Defining a json file:\n",
    "- The json file must have commas separating objects (same as dict)!\n",
    "- The json file must have __double ended__ quotes!"
   ]
  },
  {
   "cell_type": "code",
   "execution_count": 60,
   "id": "ordered-commons",
   "metadata": {},
   "outputs": [
    {
     "name": "stdout",
     "output_type": "stream",
     "text": [
      "{\n",
      "    \"First name\": \"astral\",\n",
      "    \"Last name\": \"projected\",\n",
      "    \"Animes\": [\"bleach\",\"db\",\"tokyo ghoul\"]\n",
      "}\n",
      "\n"
     ]
    }
   ],
   "source": [
    "# We can open the json file as we open a .txt file\n",
    "with open(\"Working_with_json_testfile.json\",\"r\") as file:\n",
    "    print(file.read()) "
   ]
  },
  {
   "cell_type": "markdown",
   "id": "direct-pharmaceutical",
   "metadata": {},
   "source": [
    "But like dictionaries, we can not index it (for instance: __print(file.read()[animes])__.\n",
    "To be able to do this, we'll have to parse this data in the form of a dictionary.\n"
   ]
  },
  {
   "cell_type": "code",
   "execution_count": 5,
   "id": "extraordinary-retreat",
   "metadata": {},
   "outputs": [],
   "source": [
    "import json"
   ]
  },
  {
   "cell_type": "markdown",
   "id": "catholic-headline",
   "metadata": {},
   "source": [
    "Has 4 methods:\n",
    "- dump\n",
    "- dumps\n",
    "- load\n",
    "- loads"
   ]
  },
  {
   "cell_type": "markdown",
   "id": "marine-warren",
   "metadata": {},
   "source": [
    "## Load"
   ]
  },
  {
   "cell_type": "code",
   "execution_count": 70,
   "id": "split-sperm",
   "metadata": {},
   "outputs": [
    {
     "name": "stdout",
     "output_type": "stream",
     "text": [
      "{'First name': 'astral', 'Last name': 'projected', 'Animes': ['bleach', 'db', 'tokyo ghoul']}\n",
      "printing animes: ['bleach', 'db', 'tokyo ghoul']\n",
      "first anime: bleach\n",
      "<class 'dict'>\n"
     ]
    }
   ],
   "source": [
    "with open(\"Working_with_json_testfile.json\",\"r\") as file:\n",
    "    dic = json.load(file)\n",
    "    print(dic)\n",
    "    print(\"printing animes:\",dic['Animes'])\n",
    "    print(\"first anime:\",dic['Animes'][0])\n",
    "    print(type(dic))"
   ]
  },
  {
   "cell_type": "markdown",
   "id": "specific-kansas",
   "metadata": {},
   "source": [
    "### Loads"
   ]
  },
  {
   "cell_type": "code",
   "execution_count": 76,
   "id": "together-nitrogen",
   "metadata": {},
   "outputs": [
    {
     "name": "stdout",
     "output_type": "stream",
     "text": [
      "<class 'str'>\n",
      "{'First name': 'astral', 'Last name': 'projected', 'Animes': ['bleach', 'db', 'tokyo ghoul']}\n",
      "<class 'dict'>\n"
     ]
    }
   ],
   "source": [
    "with open(\"Working_with_json_testfile.json\",\"r\") as file:\n",
    "    aux = file.read() # aux is string\n",
    "    print(type(aux))\n",
    "    # To parse json string in a dictionary object we use .loads\n",
    "    new_aux = json.loads(aux)\n",
    "    print(new_aux)\n",
    "    print(type(new_aux))"
   ]
  },
  {
   "cell_type": "markdown",
   "id": "accepting-color",
   "metadata": {},
   "source": [
    "### Converting a dictionary into a json file or string "
   ]
  },
  {
   "cell_type": "code",
   "execution_count": 77,
   "id": "infrared-cholesterol",
   "metadata": {},
   "outputs": [],
   "source": [
    "new_dic = {\n",
    "             'First name': 'astral',\n",
    "             'Last name': 'projected', \n",
    "             'Music artists': ['Radiohead', 'Beach house', 'Mcr']\n",
    "}"
   ]
  },
  {
   "cell_type": "markdown",
   "id": "labeled-agriculture",
   "metadata": {},
   "source": [
    "### Dumps"
   ]
  },
  {
   "cell_type": "code",
   "execution_count": 78,
   "id": "delayed-pavilion",
   "metadata": {},
   "outputs": [],
   "source": [
    "# conversion to a json string\n",
    "new_string = json.dumps(new_dic)"
   ]
  },
  {
   "cell_type": "code",
   "execution_count": 79,
   "id": "criminal-marker",
   "metadata": {},
   "outputs": [
    {
     "name": "stdout",
     "output_type": "stream",
     "text": [
      "<class 'str'>\n"
     ]
    }
   ],
   "source": [
    "print(type(new_string))"
   ]
  },
  {
   "cell_type": "markdown",
   "id": "subjective-testing",
   "metadata": {},
   "source": [
    "### Dump"
   ]
  },
  {
   "cell_type": "code",
   "execution_count": 90,
   "id": "respective-destruction",
   "metadata": {},
   "outputs": [],
   "source": [
    "# Another way of doing so \n",
    "# Or to create a json file from a dictionary would be by:\n",
    "with open(\"Working_with_json_testfile2.json\",\"w\") as file:\n",
    "    # can say file.write(json.dump(new_dic))\n",
    "    # better way to do it:\n",
    "    json.dump(new_dic,file)"
   ]
  }
 ],
 "metadata": {
  "kernelspec": {
   "display_name": "Python 3",
   "language": "python",
   "name": "python3"
  },
  "language_info": {
   "codemirror_mode": {
    "name": "ipython",
    "version": 3
   },
   "file_extension": ".py",
   "mimetype": "text/x-python",
   "name": "python",
   "nbconvert_exporter": "python",
   "pygments_lexer": "ipython3",
   "version": "3.9.1"
  }
 },
 "nbformat": 4,
 "nbformat_minor": 5
}
