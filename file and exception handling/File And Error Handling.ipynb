{
 "cells": [
  {
   "cell_type": "markdown",
   "id": "skilled-visiting",
   "metadata": {},
   "source": [
    "# Introduction"
   ]
  },
  {
   "cell_type": "markdown",
   "id": "synthetic-utilization",
   "metadata": {},
   "source": [
    "__File Access Modes__\n",
    "- Governs the type of operations possible in the opened file. It refers to how the file will be used once opened.\n",
    "  - __Read Only__ ('r'): Open text file for reading, if the file doesn't exist, raises I/O error. This is also the default mode in which file is opened.\n",
    "  - __Read and Write__ ('r+'): Open the file for reading and writing\n",
    "  - __Write Only__ ('w'): Open the file for writing. For existing file, the data is trucated and over written, the handle is positioned at the begining of the file.\n",
    "  - __Write and Read__ ('W+'): Open the file for reading and writing. For existed file, the data is truncated and over-written. The handle is positioned at the begining of the file.\n",
    "  - __Append Only__ ('a'): Open The file for writing. The file is created if it doesn't exist. The handle is positioned at the end of the file. The data being written will be inserted at the end, after the existing data.\n",
    "  - __Append and Read__ ('a+'): Open the file for reading and writing. The file is created if it doesn't exist. The handle is positioned at the end of the file. The data being written will be inserted at the end after the existing data.\n",
    "  "
   ]
  },
  {
   "cell_type": "markdown",
   "id": "apparent-istanbul",
   "metadata": {},
   "source": [
    "### Opening A File"
   ]
  },
  {
   "cell_type": "code",
   "execution_count": 40,
   "id": "appreciated-friendly",
   "metadata": {},
   "outputs": [],
   "source": [
    "file = open(\"file_handling.txt\",\"r\") # For a file in system, we can give its path as an arg to the open fn."
   ]
  },
  {
   "cell_type": "code",
   "execution_count": 41,
   "id": "australian-screening",
   "metadata": {},
   "outputs": [
    {
     "data": {
      "text/plain": [
       "' This is a test file\\n This file has been created by astral projected\\n'"
      ]
     },
     "execution_count": 41,
     "metadata": {},
     "output_type": "execute_result"
    }
   ],
   "source": [
    "file.read()\n",
    "# We can also provide the number of bytes that we want to read, i.e for \n",
    "# file.read(4), it will return us 'This'"
   ]
  },
  {
   "cell_type": "markdown",
   "id": "present-adrian",
   "metadata": {},
   "source": [
    "### Closing A File\n",
    "Close the file so that it wont get corrupted "
   ]
  },
  {
   "cell_type": "code",
   "execution_count": 42,
   "id": "patient-basin",
   "metadata": {},
   "outputs": [],
   "source": [
    "file.close()"
   ]
  },
  {
   "cell_type": "markdown",
   "id": "based-difficulty",
   "metadata": {},
   "source": [
    "### Writng To A File"
   ]
  },
  {
   "cell_type": "code",
   "execution_count": 66,
   "id": "final-quebec",
   "metadata": {},
   "outputs": [],
   "source": [
    "file = open(\"file_handling.txt\",\"a+\")"
   ]
  },
  {
   "cell_type": "code",
   "execution_count": 67,
   "id": "crazy-quarter",
   "metadata": {},
   "outputs": [
    {
     "data": {
      "text/plain": [
       "79"
      ]
     },
     "execution_count": 67,
     "metadata": {},
     "output_type": "execute_result"
    }
   ],
   "source": [
    "file.write(\"\\n This part has been added while testing via jupyter-notebook by astral project\")\n",
    "# It returns us the number of bytes that has been added"
   ]
  },
  {
   "cell_type": "code",
   "execution_count": 62,
   "id": "temporal-husband",
   "metadata": {},
   "outputs": [
    {
     "data": {
      "text/plain": [
       "''"
      ]
     },
     "execution_count": 62,
     "metadata": {},
     "output_type": "execute_result"
    }
   ],
   "source": [
    "file.read() # It will print an empty string because the cursor has been positioned at the end of the text."
   ]
  },
  {
   "cell_type": "code",
   "execution_count": 69,
   "id": "material-orbit",
   "metadata": {},
   "outputs": [
    {
     "data": {
      "text/plain": [
       "0"
      ]
     },
     "execution_count": 69,
     "metadata": {},
     "output_type": "execute_result"
    }
   ],
   "source": [
    "file.seek(0) # This puts the cursor at the begining of the file\n",
    "# seek(n) will put the cursor to the nth byte"
   ]
  },
  {
   "cell_type": "code",
   "execution_count": 70,
   "id": "failing-reset",
   "metadata": {},
   "outputs": [
    {
     "data": {
      "text/plain": [
       "' This is a test file\\n This file has been created by astral projected\\n\\n This part has been added while testing via jupyter-notebook by astral project\\n This part has been added while testing via jupyter-notebook by astral project'"
      ]
     },
     "execution_count": 70,
     "metadata": {},
     "output_type": "execute_result"
    }
   ],
   "source": [
    "file.read()"
   ]
  },
  {
   "cell_type": "code",
   "execution_count": 64,
   "id": "express-mixer",
   "metadata": {},
   "outputs": [
    {
     "data": {
      "text/plain": [
       "[' This is a test file\\n',\n",
       " ' This file has been created by astral projected\\n',\n",
       " '\\n',\n",
       " ' This part has been added while testing via jupyter-notebook by astral project']"
      ]
     },
     "execution_count": 64,
     "metadata": {},
     "output_type": "execute_result"
    }
   ],
   "source": [
    "file.readlines()"
   ]
  },
  {
   "cell_type": "code",
   "execution_count": 71,
   "id": "portuguese-clearing",
   "metadata": {},
   "outputs": [],
   "source": [
    "file.close()"
   ]
  },
  {
   "cell_type": "markdown",
   "id": "secondary-variance",
   "metadata": {},
   "source": [
    "### Smarter Way Of Opening A File "
   ]
  },
  {
   "cell_type": "markdown",
   "id": "demonstrated-trade",
   "metadata": {},
   "source": [
    "By using the 'with' statement, you get better syntax and exception handling.\n",
    "The with statement simplifies exception handling by encapsulating common preparations and cleanup tasks.\n",
    "In addition, it will automatically close the file.\n",
    "The with statement provides a way for ensuring that a clean ip is always used."
   ]
  },
  {
   "cell_type": "code",
   "execution_count": 74,
   "id": "deluxe-short",
   "metadata": {},
   "outputs": [
    {
     "name": "stdout",
     "output_type": "stream",
     "text": [
      " This is a test file\n",
      " This file has been created by astral projected\n",
      "\n",
      " This part has been added while testing via jupyter-notebook by astral project\n",
      "\n"
     ]
    }
   ],
   "source": [
    "with open(\"file_handling.txt\",'r') as file:\n",
    "    print(file.read())\n",
    "# This works within the scope/indentation of with block"
   ]
  }
 ],
 "metadata": {
  "kernelspec": {
   "display_name": "Python 3",
   "language": "python",
   "name": "python3"
  },
  "language_info": {
   "codemirror_mode": {
    "name": "ipython",
    "version": 3
   },
   "file_extension": ".py",
   "mimetype": "text/x-python",
   "name": "python",
   "nbconvert_exporter": "python",
   "pygments_lexer": "ipython3",
   "version": "3.9.1"
  }
 },
 "nbformat": 4,
 "nbformat_minor": 5
}
