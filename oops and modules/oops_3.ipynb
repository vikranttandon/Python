{
 "cells": [
  {
   "cell_type": "markdown",
   "id": "respiratory-handle",
   "metadata": {},
   "source": [
    "# Dunders"
   ]
  },
  {
   "cell_type": "code",
   "execution_count": 59,
   "id": "sized-namibia",
   "metadata": {},
   "outputs": [],
   "source": [
    "# Every one of these functions are defined as : __fn__()"
   ]
  },
  {
   "cell_type": "markdown",
   "id": "temporal-cookie",
   "metadata": {},
   "source": [
    "Numeric : \n",
    "- object.__add__(self, other)\n",
    "- object.__sub__(self, other)\n",
    "- object.__mul__(self, other)\n",
    "- object.__matmul__(self, other)\n",
    "- object.__truediv__(self, other)¶\n",
    "- object.__floordiv__(self, other)\n",
    "- object.__mod__(self, other)\n",
    "- object.__divmod__(self, other)\n",
    "- object.__pow__(self, other[, modulo])\n",
    "- object.__lshift__(self, other)\n",
    "- object.__rshift__(self, other)\n",
    "- object.__and__(self, other)\n",
    "- object.__xor__(self, other)\n",
    "- object.__or__(self, other)"
   ]
  },
  {
   "cell_type": "markdown",
   "id": "alleged-values",
   "metadata": {},
   "source": [
    "Binary arithmetic operations\n",
    "- object.__radd__(self, other)¶\n",
    "- object.__rsub__(self, other)\n",
    "- object.__rmul__(self, other)\n",
    "- object.__rmatmul__(self, other)\n",
    "- object.__rtruediv__(self, other)\n",
    "- object.__rfloordiv__(self, other)\n",
    "- object.__rmod__(self, other)\n",
    "- object.__rdivmod__(self, other)\n",
    "- object.__rpow__(self, other[, modulo])\n",
    "- object.__rlshift__(self, other)\n",
    "- object.__rrshift__(self, other)\n",
    "- object.__rand__(self, other)\n",
    "- object.__rxor__(self, other)\n",
    "- object.__ror__(self, other)"
   ]
  },
  {
   "cell_type": "markdown",
   "id": "analyzed-monday",
   "metadata": {},
   "source": [
    "Augmented arithmetic assignments\n",
    "- object.__iadd__(self, other)\n",
    "- object.__isub__(self, other)\n",
    "- object.__imul__(self, other)\n",
    "- object.__imatmul__(self, other)\n",
    "- object.__itruediv__(self, other)\n",
    "- object.__ifloordiv__(self, other)\n",
    "- object.__imod__(self, other)\n",
    "- object.__ipow__(self, other,modulo)\n",
    "- object.__ilshift__(self, other)\n",
    "- object.__irshift__(self, other)\n",
    "- object.__iand__(self, other)\n",
    "- object.__ixor__(self, other)\n",
    "- object.__ior__(self, other)"
   ]
  },
  {
   "cell_type": "markdown",
   "id": "clean-piano",
   "metadata": {},
   "source": [
    "Unary arithmetic operations\n",
    "- object.__neg__(self)\n",
    "- object.__pos__(self)\n",
    "- object.__abs__(self)\n",
    "- object.__invert__(self)\n",
    "\n",
    "To implement the built-in functions complex(), int() and float()\n",
    "- object.__complex__(self)¶\n",
    "- object.__int__(self)\n",
    "- object.__float__(self)\n",
    "\n",
    "To implement operator.index()\n",
    "- object.__index__(self)\n",
    "\n",
    "To implement the built-in function round() and math functions trunc(), floor() and ceil().\n",
    "- object.__round__(self,ndigits)\n",
    "- object.__trunc__(self)\n",
    "- object.__floor__(self)\n",
    "- object.__ceil__(self)\n",
    "\n"
   ]
  },
  {
   "cell_type": "markdown",
   "id": "prescription-table",
   "metadata": {},
   "source": [
    "### Some examples : "
   ]
  },
  {
   "cell_type": "markdown",
   "id": "passing-emergency",
   "metadata": {},
   "source": [
    "__str__ method allows the object to be printed as a string, in the method we define what all attributes we want to print. (while returning do.. str(attribute) in the str dunder if the attribute isn't string already and the conversion is possible"
   ]
  },
  {
   "cell_type": "code",
   "execution_count": 2,
   "id": "egyptian-violation",
   "metadata": {},
   "outputs": [],
   "source": [
    "class purchase:\n",
    "    def __init__(self,items,cost):\n",
    "        self.items = items\n",
    "        self.cost = cost\n",
    "    \n",
    "    def __add__(self,other): # Adding costs of 2 objects\n",
    "        return self.cost + other.cost\n",
    "    \n",
    "    def __str__(self): # For representing an object a string (attributes of an object)\n",
    "        return f\"For {self.items} the cost is {self.cost}\"\n",
    "    \n",
    "    def __eq__(self,other): # Comparing the costs of 2 objects\n",
    "        return self.cost == other.cost "
   ]
  },
  {
   "cell_type": "code",
   "execution_count": 3,
   "id": "absolute-still",
   "metadata": {},
   "outputs": [],
   "source": [
    "purchase1 = purchase(7,24)\n",
    "purchase2 = purchase(9,125)"
   ]
  },
  {
   "cell_type": "code",
   "execution_count": 5,
   "id": "union-dollar",
   "metadata": {},
   "outputs": [
    {
     "name": "stdout",
     "output_type": "stream",
     "text": [
      "For 7 the cost is 24 \n",
      " For 9 the cost is 125 \n",
      " sum of cost is 149 \n",
      " False\n"
     ]
    }
   ],
   "source": [
    "p1 = str(purchase1)\n",
    "p2 = str(purchase2)\n",
    "sum_of_cost = purchase1 + purchase2\n",
    "iseql = purchase1 == purchase2\n",
    "\n",
    "print(p1,'\\n',p2,'\\n',\"sum of cost is\",sum_of_cost,'\\n',iseql)"
   ]
  },
  {
   "cell_type": "code",
   "execution_count": null,
   "id": "international-uncertainty",
   "metadata": {},
   "outputs": [],
   "source": [
    "# cout in python\n",
    "# cout << Object\n",
    "# Keyword 'cout' + << (left shift) and object"
   ]
  },
  {
   "cell_type": "code",
   "execution_count": 30,
   "id": "chief-lighting",
   "metadata": {},
   "outputs": [],
   "source": [
    "class stream:\n",
    "    def __lshift__(self, object):\n",
    "        print(object,end='')\n",
    "        return self # Here we are returning self\n",
    "\n",
    "cout = stream() # cout is an object of stream"
   ]
  },
  {
   "cell_type": "markdown",
   "id": "through-living",
   "metadata": {},
   "source": [
    "We are returning self i.e cout so that we could execute multiple print queries, i.e for cout<<query1<<query2<<...  Here after executing query1, we return self i.e cout and then\n",
    "the expression would look like cout<<query2 and after executing query2, self again gets \n",
    "returned "
   ]
  },
  {
   "cell_type": "code",
   "execution_count": 73,
   "id": "appointed-vision",
   "metadata": {},
   "outputs": [
    {
     "name": "stdout",
     "output_type": "stream",
     "text": [
      "myname is astral_Projected"
     ]
    },
    {
     "data": {
      "text/plain": [
       "<__main__.stream at 0x1d0593948b0>"
      ]
     },
     "execution_count": 73,
     "metadata": {},
     "output_type": "execute_result"
    }
   ],
   "source": [
    "cout<<\"myname\"<<\" is\"<<\" astral_Projected\""
   ]
  }
 ],
 "metadata": {
  "kernelspec": {
   "display_name": "Python 3",
   "language": "python",
   "name": "python3"
  },
  "language_info": {
   "codemirror_mode": {
    "name": "ipython",
    "version": 3
   },
   "file_extension": ".py",
   "mimetype": "text/x-python",
   "name": "python",
   "nbconvert_exporter": "python",
   "pygments_lexer": "ipython3",
   "version": "3.9.1"
  }
 },
 "nbformat": 4,
 "nbformat_minor": 5
}
