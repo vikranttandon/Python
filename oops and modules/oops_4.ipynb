{
 "cells": [
  {
   "cell_type": "markdown",
   "id": "turkish-gibraltar",
   "metadata": {},
   "source": [
    "# Why do we use __init__ for declaration of attributes"
   ]
  },
  {
   "cell_type": "code",
   "execution_count": 1,
   "id": "unauthorized-threat",
   "metadata": {},
   "outputs": [],
   "source": [
    "# A class having mutable ds as attribute \n",
    "class test:\n",
    "    data = list()\n",
    "    \n",
    "    def __init__(self,metadata):\n",
    "        self.metadata = metadata\n",
    "    def add_data(self,aux):\n",
    "        self.data.append(aux)\n",
    "    def show(self):\n",
    "        print(self.metadata,self.data)"
   ]
  },
  {
   "cell_type": "code",
   "execution_count": 2,
   "id": "boxed-korea",
   "metadata": {},
   "outputs": [],
   "source": [
    "test1 = test(\"bright_colors\")\n",
    "test1.add_data(\"sky_blue\")\n",
    "test1.add_data(\"light_green\")\n",
    "test1.add_data(\"yellow\")"
   ]
  },
  {
   "cell_type": "code",
   "execution_count": 8,
   "id": "greatest-syntax",
   "metadata": {},
   "outputs": [
    {
     "name": "stdout",
     "output_type": "stream",
     "text": [
      "bright_colors ['sky_blue', 'light_green', 'yellow']\n"
     ]
    }
   ],
   "source": [
    "test1.show()"
   ]
  },
  {
   "cell_type": "code",
   "execution_count": 6,
   "id": "exact-declaration",
   "metadata": {},
   "outputs": [],
   "source": [
    "test2 = test(\"dark_colors\") # Another object created"
   ]
  },
  {
   "cell_type": "code",
   "execution_count": 7,
   "id": "compressed-maple",
   "metadata": {},
   "outputs": [
    {
     "name": "stdout",
     "output_type": "stream",
     "text": [
      "dark_colors ['sky_blue', 'light_green', 'yellow']\n"
     ]
    }
   ],
   "source": [
    "# The behavior of test2 object has not be set up yet!\n",
    "# But when we try to print the attributes of test2 \n",
    "test2.show()"
   ]
  },
  {
   "cell_type": "code",
   "execution_count": 13,
   "id": "former-transcription",
   "metadata": {},
   "outputs": [
    {
     "name": "stdout",
     "output_type": "stream",
     "text": [
      "id of test1's data(list):  2180687922944\n",
      "id of test2's data(list):  2180687922944\n",
      "id of class's data(list):  2180687922944\n"
     ]
    }
   ],
   "source": [
    "# This happens because test1 and test2 are pointing to the same list i.e\n",
    "print(\"id of test1's data(list): \",id(test1.data))\n",
    "print(\"id of test2's data(list): \",id(test2.data))\n",
    "\n",
    "# Infact, the class will be sharing the same list with all of its objects\n",
    "print(\"id of class's data(list): \",id(test.data))"
   ]
  },
  {
   "cell_type": "markdown",
   "id": "center-hammer",
   "metadata": {},
   "source": [
    "When an instance of a class is created, all the values of the attributes of that class get copied into their behavior. Hence, if the behavior of mutable type, all of the objects will share the same variable. "
   ]
  },
  {
   "cell_type": "markdown",
   "id": "confidential-volleyball",
   "metadata": {},
   "source": [
    "## Soluion "
   ]
  },
  {
   "cell_type": "code",
   "execution_count": 47,
   "id": "rotary-spice",
   "metadata": {},
   "outputs": [],
   "source": [
    "# To declare attributes/ data members in the __init__ function\n",
    "# WAY 1\n",
    "class new_test:\n",
    "    def __init__(self,metadata): \n",
    "        self.metadata = metadata\n",
    "        self.data = list()\n",
    "    def add_data(self,aux):\n",
    "        self.data.append(aux)\n",
    "    def show(self):\n",
    "        print(self.metadata,self.data)"
   ]
  },
  {
   "cell_type": "code",
   "execution_count": 48,
   "id": "another-price",
   "metadata": {},
   "outputs": [
    {
     "name": "stdout",
     "output_type": "stream",
     "text": [
      "bright_colors ['sky_blue', 'light_green', 'yellow']\n"
     ]
    }
   ],
   "source": [
    "ob1 = new_test(\"bright_colors\")\n",
    "ob1.add_data(\"sky_blue\")\n",
    "ob1.add_data(\"light_green\")\n",
    "ob1.add_data(\"yellow\")\n",
    "ob1.show()"
   ]
  },
  {
   "cell_type": "code",
   "execution_count": 49,
   "id": "general-horror",
   "metadata": {},
   "outputs": [
    {
     "name": "stdout",
     "output_type": "stream",
     "text": [
      "dark_colors []\n"
     ]
    }
   ],
   "source": [
    "ob2 = new_test(\"dark_colors\")\n",
    "ob2.show()"
   ]
  },
  {
   "cell_type": "code",
   "execution_count": 51,
   "id": "enclosed-differential",
   "metadata": {},
   "outputs": [
    {
     "data": {
      "text/plain": [
       "'\\nAnother ways of declaration\\nWay 2 : \\n\\ndef __init__(self, data , metadata):\\n    self.data = data\\n    ..rest of the code\\n\\n# while creating an object\\n \\nobj = class_name(None,..)\\n\\n# None has to be passed as an additional argument!   \\n'"
      ]
     },
     "execution_count": 51,
     "metadata": {},
     "output_type": "execute_result"
    }
   ],
   "source": [
    "'''\n",
    "Another ways of declaration\n",
    "Way 2 : \n",
    "\n",
    "def __init__(self, data , metadata):\n",
    "    self.data = data\n",
    "    ..rest of the code\n",
    "\n",
    "# while creating an object\n",
    " \n",
    "obj = class_name(None,..)\n",
    "\n",
    "# None has to be passed as an additional argument!   \n",
    "'''"
   ]
  },
  {
   "cell_type": "markdown",
   "id": "metric-breakdown",
   "metadata": {},
   "source": [
    "This works because, __inint__ is called at the time of creation of object, it defines the behavior of the object as defined in the __init__ method, allocating different memory to all attributes for all objects.\n",
    "So, even if the object has mutable ds as an attribute, it will not be shared with other objects (verifiable : ids of all these attributes will be different)  "
   ]
  }
 ],
 "metadata": {
  "kernelspec": {
   "display_name": "Python 3",
   "language": "python",
   "name": "python3"
  },
  "language_info": {
   "codemirror_mode": {
    "name": "ipython",
    "version": 3
   },
   "file_extension": ".py",
   "mimetype": "text/x-python",
   "name": "python",
   "nbconvert_exporter": "python",
   "pygments_lexer": "ipython3",
   "version": "3.9.1"
  }
 },
 "nbformat": 4,
 "nbformat_minor": 5
}
