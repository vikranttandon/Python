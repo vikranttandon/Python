{
 "cells": [
  {
   "cell_type": "markdown",
   "id": "exempt-stack",
   "metadata": {},
   "source": [
    "# Inheritance"
   ]
  },
  {
   "cell_type": "markdown",
   "id": "humanitarian-clone",
   "metadata": {},
   "source": [
    "## Introduction"
   ]
  },
  {
   "cell_type": "markdown",
   "id": "loving-cleanup",
   "metadata": {},
   "source": [
    "Python doesn't support overloading, only supports overriding\n",
    "\n",
    "- Overloading:\n",
    "  - Same fn name different signature\n",
    "  - The bow is one and arrows may differ in number, i.e there maybe many function\n",
    "    definations and declarations with varied number of arguments/signture.\n",
    "  - Each of those functions may have absolutely different functionalities.\n",
    "- overriding:\n",
    "  - Method overriding is an ability of any object-oriented programming language that allows a subclass     or child class to provide a specific implementation of a method that is already provided by one of     its super-classes or parent classes.\n",
    "  - To override is to extend the functionality of the same fn.\n",
    "  - For a child class to override a function of its parent class, \n",
    "    it has all that its parent has in that function but apart from that, it can extend the                 functionality of that function. \n",
    "   \n",
    "    \n",
    "    \n"
   ]
  },
  {
   "cell_type": "markdown",
   "id": "biblical-crisis",
   "metadata": {},
   "source": [
    "EXAMPLE 1:"
   ]
  },
  {
   "cell_type": "code",
   "execution_count": 204,
   "id": "legislative-harmony",
   "metadata": {},
   "outputs": [],
   "source": [
    "class vehicle:\n",
    "    def __init__(self):\n",
    "        self.type = None\n",
    "        self.licensePl = None\n",
    "        self.owner = None\n",
    "    def modify_behavior(self): # short description\n",
    "        print(\"Enter short description(type,licensePl,ownername) :\")\n",
    "        self.type = input() # string\n",
    "        self.licensePl = input() # string\n",
    "        self.owner = input() # string\n",
    "    def identify_short(self):\n",
    "        print('owner:',self.owner,'\\n','vehicle:',self.type,'\\n','license no:',self.licensePl)"
   ]
  },
  {
   "cell_type": "markdown",
   "id": "allied-divorce",
   "metadata": {},
   "source": [
    "Now this is a vehicle class and these are some attributes that all vehicles have, \n",
    "So a particular vehile may extend/override these attributes"
   ]
  },
  {
   "cell_type": "code",
   "execution_count": 205,
   "id": "permanent-coverage",
   "metadata": {},
   "outputs": [],
   "source": [
    "class bike(vehicle): \n",
    "    def __init__(self):\n",
    "        #Now we want to initialize the common attributes!\n",
    "        #To access the (super/ base/ parent)\n",
    "        vehicle.__init__(self) # (override)WAY 1, we've to pass self as an arg\n",
    "        #Now we extend the functionalities (if we want to)\n",
    "        self.tyres = 2\n",
    "        self.rules_to_ride = list()\n",
    "    def modify_behavior(self):\n",
    "        super().modify_behavior()\n",
    "        print(\"Enter the list of rules to ride a bike:\")\n",
    "        print(\"NUM RULE(s):\")\n",
    "        howmany = int(input())\n",
    "        for cur in range(howmany):\n",
    "            string = input()\n",
    "            self.rules_to_ride.append(string)\n",
    "    def identify(self):\n",
    "        print(\"To choose short description for identification enter 0 else 1\")\n",
    "        choice = int(input())\n",
    "        if choice == 0:\n",
    "            super().identify_short() #(override)WAY2, Dont have to pass self as an arg\n",
    "        else:\n",
    "            super().identify_short()\n",
    "            print(\"RUles to ride a bike:\")\n",
    "            for text in self.rules_to_ride:\n",
    "                print(text)"
   ]
  },
  {
   "cell_type": "code",
   "execution_count": 206,
   "id": "popular-european",
   "metadata": {},
   "outputs": [],
   "source": [
    "bike1 = bike()"
   ]
  },
  {
   "cell_type": "code",
   "execution_count": 207,
   "id": "spread-language",
   "metadata": {},
   "outputs": [
    {
     "name": "stdout",
     "output_type": "stream",
     "text": [
      "Enter short description(type,licensePl,ownername) :\n",
      "bike\n",
      "DL12012\n",
      "Astral Projected\n",
      "Enter the list of rules to ride a bike:\n",
      "NUM RULE(s):\n",
      "3\n",
      "Wear a helmet\n",
      "Dont drink and drive\n",
      "Drive within speed limit\n"
     ]
    }
   ],
   "source": [
    "bike1.modify_behavior()"
   ]
  },
  {
   "cell_type": "code",
   "execution_count": 209,
   "id": "laden-guarantee",
   "metadata": {},
   "outputs": [
    {
     "name": "stdout",
     "output_type": "stream",
     "text": [
      "To choose short description for identification enter 0 else 1\n",
      "1\n",
      "owner: Astral Projected \n",
      " vehicle: bike \n",
      " license no: DL12012\n",
      "RUles to ride a bike:\n",
      "Wear a helmet\n",
      "Dont drink and drive\n",
      "Drive within speed limit\n"
     ]
    }
   ],
   "source": [
    "bike1.identify()"
   ]
  },
  {
   "cell_type": "markdown",
   "id": "exterior-disney",
   "metadata": {},
   "source": [
    "EXAMPLE 2:"
   ]
  },
  {
   "cell_type": "markdown",
   "id": "fancy-panic",
   "metadata": {},
   "source": [
    "A school is an org where people can be categorized based on their roles, and categories may include:\n",
    "teachers, student, support staff, ...\n",
    "All these member have some attributes in common such as \n",
    "- Some of them have same working hours\n",
    "- All of them are identified by some ids\n",
    "..."
   ]
  },
  {
   "cell_type": "code",
   "execution_count": 190,
   "id": "humanitarian-restaurant",
   "metadata": {},
   "outputs": [],
   "source": [
    "class school_mem:\n",
    "    def __init__(self,name,age):\n",
    "        self.name = name\n",
    "        self.age = age\n",
    "    def tell(self):\n",
    "        print(f\"{self.name} is a member of the school\")"
   ]
  },
  {
   "cell_type": "code",
   "execution_count": 191,
   "id": "insured-liver",
   "metadata": {},
   "outputs": [],
   "source": [
    "class teacher(school_mem):\n",
    "    def __init__(self,name,age,salary):\n",
    "        school_mem.__init__(self,name,age)\n",
    "        self.salary = salary\n",
    "    def tell(self):\n",
    "        print(f\"{self.name} is a teacher of the school\")"
   ]
  },
  {
   "cell_type": "code",
   "execution_count": 194,
   "id": "running-sewing",
   "metadata": {},
   "outputs": [],
   "source": [
    "class student(school_mem):\n",
    "    def __init__(self,name,age,marks):\n",
    "        super().__init__(name,age)\n",
    "        self.marks = marks\n",
    "    def tell(self):\n",
    "        print(f\"{self.name} is a student of the school\")"
   ]
  },
  {
   "cell_type": "code",
   "execution_count": 195,
   "id": "laden-texas",
   "metadata": {},
   "outputs": [],
   "source": [
    "teacher_object1 = teacher('amon',24,24000)\n",
    "student_object1 = student('kaneki',18,76)"
   ]
  },
  {
   "cell_type": "code",
   "execution_count": 198,
   "id": "dangerous-indianapolis",
   "metadata": {},
   "outputs": [
    {
     "name": "stdout",
     "output_type": "stream",
     "text": [
      "amon is a teacher of the school\n",
      "kaneki is a student of the school\n"
     ]
    }
   ],
   "source": [
    "teacher_object1.tell()\n",
    "student_object1.tell()"
   ]
  },
  {
   "cell_type": "markdown",
   "id": "nasty-treaty",
   "metadata": {},
   "source": [
    "The _super()_ keyword creates a proxy object of the base/parent class and by that proxy object we access the base class and an argument of self (which is the object of the derived class) is passed along implicitly. \n",
    "This works because self inherits the attributes of the parent class, and by using init or any other method (defined in the base class) we can initialize/modify behavior of the object of the derived class   "
   ]
  }
 ],
 "metadata": {
  "kernelspec": {
   "display_name": "Python 3",
   "language": "python",
   "name": "python3"
  },
  "language_info": {
   "codemirror_mode": {
    "name": "ipython",
    "version": 3
   },
   "file_extension": ".py",
   "mimetype": "text/x-python",
   "name": "python",
   "nbconvert_exporter": "python",
   "pygments_lexer": "ipython3",
   "version": "3.9.1"
  }
 },
 "nbformat": 4,
 "nbformat_minor": 5
}
