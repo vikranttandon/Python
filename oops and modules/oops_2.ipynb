{
 "cells": [
  {
   "cell_type": "code",
   "execution_count": 50,
   "id": "bacterial-essence",
   "metadata": {},
   "outputs": [],
   "source": [
    "class temp:\n",
    "    pass #for an empty class "
   ]
  },
  {
   "cell_type": "code",
   "execution_count": 42,
   "id": "golden-defeat",
   "metadata": {},
   "outputs": [],
   "source": [
    "class wo_init: # class without __init__ mehtond\n",
    "    var1 = int()\n",
    "    var2 = int() #some data members\n",
    "    def putin(self_,x,y): \n",
    "        self_.var1 = x\n",
    "        self_.var2 = y\n",
    "    def show(instance_arg): # MUST always receive the object!\n",
    "        print(instance_arg.var1,instance_arg.var2)\n",
    "    "
   ]
  },
  {
   "cell_type": "markdown",
   "id": "periodic-calculator",
   "metadata": {},
   "source": [
    "The data functions always receive the same instance/object that was created in the main module, as the first argument, even if it's not passed manually.\n",
    "Following the instance, are the arugments that we may want to pass to update the behavior of the object"
   ]
  },
  {
   "cell_type": "markdown",
   "id": "immune-discretion",
   "metadata": {},
   "source": [
    "### WAY 1 (to interact)"
   ]
  },
  {
   "cell_type": "code",
   "execution_count": 47,
   "id": "fiscal-april",
   "metadata": {},
   "outputs": [
    {
     "name": "stdout",
     "output_type": "stream",
     "text": [
      "21 22\n"
     ]
    }
   ],
   "source": [
    "ins_wo1 = wo_init()\n",
    "ins_wo1.putin(21,22)\n",
    "ins_wo1.show()"
   ]
  },
  {
   "cell_type": "markdown",
   "id": "black-shuttle",
   "metadata": {},
   "source": [
    "## WAY 2 "
   ]
  },
  {
   "cell_type": "code",
   "execution_count": 48,
   "id": "early-dividend",
   "metadata": {},
   "outputs": [
    {
     "name": "stdout",
     "output_type": "stream",
     "text": [
      "212 412\n"
     ]
    }
   ],
   "source": [
    "ins_wo2 = wo_init() # creation of an instance\n",
    "\n",
    "wo_init.putin(ins_wo2,212,412)\n",
    "wo_init.show(ins_wo2)\n"
   ]
  },
  {
   "cell_type": "markdown",
   "id": "fleet-textbook",
   "metadata": {},
   "source": [
    "THE DUNDERS/ MAGIC FUNCTIONS \n",
    "- __init__"
   ]
  },
  {
   "cell_type": "code",
   "execution_count": 51,
   "id": "vanilla-lebanon",
   "metadata": {},
   "outputs": [],
   "source": [
    "# Whenever an instance is created, this method will be called \n",
    "# THIS METHOD IS NOT A CONSTRUCTOR!\n",
    "class w_init:\n",
    "    def __init__(cur_instance, var1,var2):\n",
    "        cur_instance.var1 = var1\n",
    "        cur_instance.var2 = var2\n",
    "    def show(cur):\n",
    "        print(cur.var1,cur.var2)"
   ]
  },
  {
   "cell_type": "markdown",
   "id": "automated-while",
   "metadata": {},
   "source": [
    "The init method will always be called at the time of creation of an object,\n",
    "\n",
    "- Along with the object, it is also capable of receiving attributes as arguments\n",
    "  - A way of defining attributes!\n",
    "  - These attributes can be refered to in other methods as well"
   ]
  },
  {
   "cell_type": "code",
   "execution_count": 52,
   "id": "stock-resort",
   "metadata": {},
   "outputs": [
    {
     "name": "stdout",
     "output_type": "stream",
     "text": [
      "21 24\n"
     ]
    }
   ],
   "source": [
    "ins_w1 = w_init(21,24) \n",
    "ins_w1.show()\n",
    "\n",
    "# Here, we created var1 and var2 by passing there values at the time of declaration, \n",
    "# These can be accessed by "
   ]
  },
  {
   "cell_type": "code",
   "execution_count": 53,
   "id": "necessary-agent",
   "metadata": {},
   "outputs": [
    {
     "name": "stdout",
     "output_type": "stream",
     "text": [
      "204 987\n"
     ]
    }
   ],
   "source": [
    "ins_w2 = w_init(204,987)\n",
    "ins_w2.show()"
   ]
  }
 ],
 "metadata": {
  "kernelspec": {
   "display_name": "Python 3",
   "language": "python",
   "name": "python3"
  },
  "language_info": {
   "codemirror_mode": {
    "name": "ipython",
    "version": 3
   },
   "file_extension": ".py",
   "mimetype": "text/x-python",
   "name": "python",
   "nbconvert_exporter": "python",
   "pygments_lexer": "ipython3",
   "version": "3.9.1"
  }
 },
 "nbformat": 4,
 "nbformat_minor": 5
}
