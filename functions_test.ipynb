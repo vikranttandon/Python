{
 "cells": [
  {
   "cell_type": "markdown",
   "id": "social-retail",
   "metadata": {},
   "source": [
    "## Introduction"
   ]
  },
  {
   "cell_type": "code",
   "execution_count": 8,
   "id": "hundred-pixel",
   "metadata": {},
   "outputs": [],
   "source": [
    "def fill_rec(name,times):\n",
    "    for i in range(times):\n",
    "        print(\"printing name : {} for the {}th time\".format(name,i))"
   ]
  },
  {
   "cell_type": "code",
   "execution_count": 9,
   "id": "brazilian-illness",
   "metadata": {},
   "outputs": [
    {
     "name": "stdout",
     "output_type": "stream",
     "text": [
      "printing name : astral for the 0th time\n",
      "printing name : astral for the 1th time\n",
      "printing name : astral for the 2th time\n",
      "printing name : astral for the 3th time\n"
     ]
    }
   ],
   "source": [
    "fill_rec(\"astral\",4)"
   ]
  },
  {
   "cell_type": "markdown",
   "id": "painful-world",
   "metadata": {},
   "source": [
    "## Return, Global and Local"
   ]
  },
  {
   "cell_type": "code",
   "execution_count": 25,
   "id": "entire-waters",
   "metadata": {},
   "outputs": [],
   "source": [
    "# bit of exception handling\n",
    "def div(a,b):\n",
    "    try:\n",
    "        return a/b\n",
    "    except:\n",
    "        print('Error')\n",
    "    finally: # a block that always execute\n",
    "        print('Wrapping up')\n",
    "        # return -1 (can even override the value to be returned)        "
   ]
  },
  {
   "cell_type": "code",
   "execution_count": 28,
   "id": "literary-andrews",
   "metadata": {},
   "outputs": [
    {
     "name": "stdout",
     "output_type": "stream",
     "text": [
      "Error\n",
      "Wrapping up\n",
      "None\n",
      "Wrapping up\n",
      "5.0\n",
      "Wrapping up\n",
      "5.0\n"
     ]
    }
   ],
   "source": [
    "print(div(10,0))\n",
    "print(div(10,2)) \n",
    "print(div(20,4))"
   ]
  },
  {
   "cell_type": "code",
   "execution_count": 42,
   "id": "another-chicken",
   "metadata": {},
   "outputs": [],
   "source": [
    "x = 20\n",
    "def fun():\n",
    "    global x # here we have to mention if we're trying to use a global variable in a function\n",
    "    x += 5\n",
    "    print(x)"
   ]
  },
  {
   "cell_type": "code",
   "execution_count": 43,
   "id": "fantastic-proof",
   "metadata": {},
   "outputs": [
    {
     "name": "stdout",
     "output_type": "stream",
     "text": [
      "25\n",
      "25\n"
     ]
    }
   ],
   "source": [
    "fun()\n",
    "print(x)"
   ]
  },
  {
   "cell_type": "code",
   "execution_count": 46,
   "id": "photographic-lawsuit",
   "metadata": {},
   "outputs": [],
   "source": [
    "del x "
   ]
  },
  {
   "cell_type": "code",
   "execution_count": 51,
   "id": "designed-survey",
   "metadata": {},
   "outputs": [],
   "source": [
    "def fun1():\n",
    "    x = 10 # even without deleting x above,the func would have worked fine because here the x is a local var\n",
    "    print(x)\n",
    "    def fun2():\n",
    "        nonlocal x # function within a function using a variable def in the above func has to mention \n",
    "        x+=5\n",
    "        print(x)\n",
    "        def fun3():\n",
    "            nonlocal x\n",
    "            x+=5\n",
    "            print(x)\n",
    "        \n",
    "        fun3()\n",
    "    fun2()\n",
    "   "
   ]
  },
  {
   "cell_type": "code",
   "execution_count": 52,
   "id": "indoor-services",
   "metadata": {},
   "outputs": [
    {
     "name": "stdout",
     "output_type": "stream",
     "text": [
      "10\n",
      "15\n",
      "20\n"
     ]
    }
   ],
   "source": [
    "fun1()"
   ]
  },
  {
   "cell_type": "code",
   "execution_count": 58,
   "id": "cooked-dream",
   "metadata": {},
   "outputs": [],
   "source": [
    "def fun(a,b,c = \"astral\"):\n",
    "    print(a,b,c)\n",
    "  "
   ]
  },
  {
   "cell_type": "code",
   "execution_count": 63,
   "id": "aware-inspiration",
   "metadata": {},
   "outputs": [
    {
     "name": "stdout",
     "output_type": "stream",
     "text": [
      "3 1 2\n"
     ]
    }
   ],
   "source": [
    "fun(c=2,b=1,a=3)"
   ]
  },
  {
   "cell_type": "markdown",
   "id": "palestinian-gates",
   "metadata": {},
   "source": [
    "## Packing Arguments "
   ]
  },
  {
   "cell_type": "code",
   "execution_count": 72,
   "id": "central-trinity",
   "metadata": {},
   "outputs": [],
   "source": [
    "def func(a,b,*args,d=10,**kwargs):\n",
    "    print(a,b,args,d,kwargs)"
   ]
  },
  {
   "cell_type": "code",
   "execution_count": 74,
   "id": "distant-there",
   "metadata": {},
   "outputs": [
    {
     "name": "stdout",
     "output_type": "stream",
     "text": [
      "1 2 ('this', 'goes', 'in *args') 100 {'name': 'astral', 'rest': 'projected'}\n"
     ]
    }
   ],
   "source": [
    "func(1,2,\"this\",'goes','in *args',d = 100,name = 'astral',rest = 'projected')"
   ]
  },
  {
   "cell_type": "markdown",
   "id": "academic-breeding",
   "metadata": {},
   "source": [
    "## Lambda Functions"
   ]
  },
  {
   "cell_type": "code",
   "execution_count": 9,
   "id": "worse-princess",
   "metadata": {},
   "outputs": [],
   "source": [
    "add = lambda a,b : a+b"
   ]
  },
  {
   "cell_type": "code",
   "execution_count": 10,
   "id": "disciplinary-marsh",
   "metadata": {},
   "outputs": [
    {
     "name": "stdout",
     "output_type": "stream",
     "text": [
      "6\n"
     ]
    }
   ],
   "source": [
    "print(add(2,4))"
   ]
  },
  {
   "cell_type": "code",
   "execution_count": 18,
   "id": "wireless-humor",
   "metadata": {},
   "outputs": [
    {
     "data": {
      "text/plain": [
       "[665, 657, 656, 56, 43, 42, 34, 23, 23, 4, 4, 4, 4, 3, 3, 2]"
      ]
     },
     "execution_count": 18,
     "metadata": {},
     "output_type": "execute_result"
    }
   ],
   "source": [
    "## sorting\n",
    "a = [4,56,2,4,656,23,4,657,42,34,3,665,3,23,43,4]\n",
    "sorted(a,reverse = True)"
   ]
  },
  {
   "cell_type": "code",
   "execution_count": 29,
   "id": "parliamentary-decimal",
   "metadata": {},
   "outputs": [
    {
     "name": "stdout",
     "output_type": "stream",
     "text": [
      "based on string [('abc', 54), ('abd', 45), ('fal', 61), ('fgd', 75)]\n",
      "based on int [('fgd', 75), ('fal', 61), ('abc', 54), ('abd', 45)]\n"
     ]
    }
   ],
   "source": [
    "b = [(\"abc\",54) , (\"abd\",45),(\"fgd\",75),(\"fal\",61)]\n",
    "print(\"based on string\",sorted(b,key = lambda x : x[0])) #based on string in tuple in list\n",
    "print(\"based on int\",sorted(b,key = lambda x : x[1],reverse = True)) #based on int in tuple in list in reverse"
   ]
  },
  {
   "cell_type": "code",
   "execution_count": 66,
   "id": "sublime-gossip",
   "metadata": {},
   "outputs": [],
   "source": [
    "def f(*tup):\n",
    "    print(tup)"
   ]
  },
  {
   "cell_type": "code",
   "execution_count": 77,
   "id": "greek-welsh",
   "metadata": {},
   "outputs": [
    {
     "name": "stdout",
     "output_type": "stream",
     "text": [
      "((1, 2, 3, 4), 'yo', 'astral')\n",
      "(1, 2, 3, 4, 'yo', 'astral')\n"
     ]
    },
    {
     "data": {
      "text/plain": [
       "tuple"
      ]
     },
     "execution_count": 77,
     "metadata": {},
     "output_type": "execute_result"
    }
   ],
   "source": [
    "a = (1,2,3,4) # a is a tuple\n",
    "f(a,'yo','astral') # a is passed a tuple, becomes a part of a bigger tuple\n",
    "f(*a,'yo','astral') #\n",
    "type(a)"
   ]
  },
  {
   "cell_type": "markdown",
   "id": "recognized-cause",
   "metadata": {},
   "source": [
    "## Decorators"
   ]
  },
  {
   "cell_type": "code",
   "execution_count": 31,
   "id": "lightweight-houston",
   "metadata": {},
   "outputs": [],
   "source": [
    "users = {\n",
    "    'abc' : 'def',\n",
    "    'ijk' : 'lmo',\n",
    "    'nop' : 'qrs'\n",
    "}"
   ]
  },
  {
   "cell_type": "code",
   "execution_count": 32,
   "id": "digital-dollar",
   "metadata": {},
   "outputs": [],
   "source": [
    "def helper(operation):\n",
    "    def inner_helper(user,pwd,*args,**kwargs): # receives arguments\n",
    "        if user in users and users[user]==pwd:\n",
    "            print(args)\n",
    "            operation(*args,**kwargs)\n",
    "        else:\n",
    "            print(\"not right\")\n",
    "    \n",
    "    return inner_helper"
   ]
  },
  {
   "cell_type": "code",
   "execution_count": 33,
   "id": "verbal-privilege",
   "metadata": {},
   "outputs": [],
   "source": [
    "def operation(a,b):\n",
    "    print(a+b)"
   ]
  },
  {
   "cell_type": "markdown",
   "id": "liquid-serial",
   "metadata": {},
   "source": [
    "#### Different ways of calling operation function! "
   ]
  },
  {
   "cell_type": "code",
   "execution_count": 34,
   "id": "sexual-updating",
   "metadata": {},
   "outputs": [
    {
     "name": "stdout",
     "output_type": "stream",
     "text": [
      "<function helper.<locals>.inner_helper at 0x00000117E1596700>\n",
      "(14, 24)\n",
      "38\n"
     ]
    }
   ],
   "source": [
    "protected_add = helper(operation) #way1\n",
    "print(protected_add)\n",
    "#since protected_add is of type function,hence it interacts with/provides arguments to the inner_helper\n",
    "protected_add('ijk','lmo',14,24)"
   ]
  },
  {
   "cell_type": "code",
   "execution_count": 25,
   "id": "grateful-command",
   "metadata": {},
   "outputs": [
    {
     "name": "stdout",
     "output_type": "stream",
     "text": [
      "(1, 2)\n",
      "3\n"
     ]
    }
   ],
   "source": [
    "helper(operation)('abc','def',1,2) #way2\n",
    "\n",
    "#type(protected_add)"
   ]
  },
  {
   "cell_type": "markdown",
   "id": "skilled-reserve",
   "metadata": {},
   "source": [
    "### new "
   ]
  },
  {
   "cell_type": "code",
   "execution_count": 31,
   "id": "stopped-institute",
   "metadata": {},
   "outputs": [],
   "source": [
    "@helper\n",
    "def add(a,b):\n",
    "    print(a+b)"
   ]
  },
  {
   "cell_type": "code",
   "execution_count": 33,
   "id": "pharmaceutical-northwest",
   "metadata": {},
   "outputs": [],
   "source": [
    "def sub(a,b):\n",
    "    print(a-b)\n",
    "sub = helper(sub)"
   ]
  },
  {
   "cell_type": "code",
   "execution_count": 34,
   "id": "fitting-connectivity",
   "metadata": {},
   "outputs": [
    {
     "name": "stdout",
     "output_type": "stream",
     "text": [
      "(14, 24)\n",
      "38\n"
     ]
    }
   ],
   "source": [
    "add('abc','def',14,24)"
   ]
  },
  {
   "cell_type": "code",
   "execution_count": 37,
   "id": "aggregate-boring",
   "metadata": {},
   "outputs": [
    {
     "name": "stdout",
     "output_type": "stream",
     "text": [
      "(25, 7)\n",
      "18\n"
     ]
    }
   ],
   "source": [
    "sub('abc','def',25,7)"
   ]
  },
  {
   "cell_type": "code",
   "execution_count": 93,
   "id": "supported-netherlands",
   "metadata": {},
   "outputs": [],
   "source": [
    "def fun1():\n",
    "    def fun2(*args,**kwargs):\n",
    "        print(args,kwargs)\n",
    "        def fun3(*args,**kwargs):\n",
    "            print(args,kwargs)\n",
    "        return fun3\n",
    "    return fun2"
   ]
  },
  {
   "cell_type": "code",
   "execution_count": 94,
   "id": "usual-hydrogen",
   "metadata": {},
   "outputs": [
    {
     "name": "stdout",
     "output_type": "stream",
     "text": [
      "(1, 2) {'in1': 'reached'}\n",
      "(3, 4) {'in2': 'reached'}\n"
     ]
    }
   ],
   "source": [
    "fun1()(1,2,in1='reached')(3,4,in2='reached')"
   ]
  },
  {
   "cell_type": "code",
   "execution_count": 52,
   "id": "antique-cable",
   "metadata": {},
   "outputs": [],
   "source": [
    "def f(a,b):\n",
    "    print(a,b)"
   ]
  },
  {
   "cell_type": "code",
   "execution_count": 58,
   "id": "communist-metropolitan",
   "metadata": {},
   "outputs": [],
   "source": [
    "def fun(*args):\n",
    "    f(*args)"
   ]
  },
  {
   "cell_type": "code",
   "execution_count": 61,
   "id": "fixed-worry",
   "metadata": {},
   "outputs": [
    {
     "name": "stdout",
     "output_type": "stream",
     "text": [
      "1 2\n"
     ]
    }
   ],
   "source": [
    "fun(1,2)"
   ]
  },
  {
   "cell_type": "code",
   "execution_count": 2,
   "id": "detected-korea",
   "metadata": {},
   "outputs": [],
   "source": [
    "# most basic implementation ofo this kind of function interaction\n",
    "def original_fn(filter_fn):\n",
    "    def receiver_fn(x,y,z): # This function receives the arguments!\n",
    "        if x>y:\n",
    "            filter_fn(y,z) # filtering the arguments based on comparision\n",
    "        else:\n",
    "            filter_fn(x,z)\n",
    "            \n",
    "    return receiver_fn # must be returned"
   ]
  },
  {
   "cell_type": "code",
   "execution_count": 3,
   "id": "vietnamese-aside",
   "metadata": {},
   "outputs": [],
   "source": [
    "def filter_fn(val1,val2):\n",
    "    print(val1,val2)"
   ]
  },
  {
   "cell_type": "code",
   "execution_count": 6,
   "id": "chubby-anthony",
   "metadata": {},
   "outputs": [
    {
     "name": "stdout",
     "output_type": "stream",
     "text": [
      "10 30\n",
      "10 20\n"
     ]
    }
   ],
   "source": [
    "original_fn(filter_fn)(10,20,30) # x and z will get printed\n",
    "original_fn(filter_fn)(20,10,20) # y and z will get printed"
   ]
  }
 ],
 "metadata": {
  "kernelspec": {
   "display_name": "Python 3",
   "language": "python",
   "name": "python3"
  },
  "language_info": {
   "codemirror_mode": {
    "name": "ipython",
    "version": 3
   },
   "file_extension": ".py",
   "mimetype": "text/x-python",
   "name": "python",
   "nbconvert_exporter": "python",
   "pygments_lexer": "ipython3",
   "version": "3.9.1"
  }
 },
 "nbformat": 4,
 "nbformat_minor": 5
}
