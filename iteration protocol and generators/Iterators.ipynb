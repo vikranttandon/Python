{
 "cells": [
  {
   "cell_type": "markdown",
   "id": "loaded-august",
   "metadata": {},
   "source": [
    "##### Apart from just looping over iterable objects, some other ways in which python utilizes them:"
   ]
  },
  {
   "cell_type": "code",
   "execution_count": 9,
   "id": "infinite-frequency",
   "metadata": {},
   "outputs": [
    {
     "name": "stdout",
     "output_type": "stream",
     "text": [
      "<class 'str'>\n",
      "1-2-3 1.2.3\n",
      "typed-.-by-.-astral\n",
      "name-_-age\n"
     ]
    }
   ],
   "source": [
    "# join() fn \n",
    "x = list('123')\n",
    "\n",
    "x_str1 = \"-\".join(x) # Breaks down in single length string and joins based on character passed\n",
    "x_str2 = \".\".join(x) # Whether it be a list of strings\n",
    "tup_str = \"-.-\".join(('typed','by','astral')) # Or tuple of strings\n",
    "dic_str = \"-_-\".join({'name':'astral' ,'age':20}) # Will do it for keys\n",
    "\n",
    "print(type(x_str1))\n",
    "\n",
    "print(x_str1,x_str2)\n",
    "print(tup_str)\n",
    "print(dic_str) "
   ]
  },
  {
   "cell_type": "code",
   "execution_count": 11,
   "id": "boring-princeton",
   "metadata": {},
   "outputs": [
    {
     "name": "stdout",
     "output_type": "stream",
     "text": [
      "21 15\n"
     ]
    }
   ],
   "source": [
    "# sum() fn\n",
    "y = list([1,2,3,4,5,6])\n",
    "z = {1:'astral', 2:\"projected\", 3:'likes',4:'to',5:'code'} \n",
    "\n",
    "sum_y = sum(y)\n",
    "sum_z = sum(z) # will do it for keys\n",
    "\n",
    "print(sum_y,sum_z)"
   ]
  }
 ],
 "metadata": {
  "kernelspec": {
   "display_name": "Python 3",
   "language": "python",
   "name": "python3"
  },
  "language_info": {
   "codemirror_mode": {
    "name": "ipython",
    "version": 3
   },
   "file_extension": ".py",
   "mimetype": "text/x-python",
   "name": "python",
   "nbconvert_exporter": "python",
   "pygments_lexer": "ipython3",
   "version": "3.9.1"
  }
 },
 "nbformat": 4,
 "nbformat_minor": 5
}
