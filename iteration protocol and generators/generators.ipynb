{
 "cells": [
  {
   "attachments": {
    "generator_img.png": {
     "image/png": "[encoded data removed]"
    }
   },
   "cell_type": "markdown",
   "id": "mighty-doctrine",
   "metadata": {},
   "source": [
    "![generator_img.png](attachment:generator_img.png)"
   ]
  },
  {
   "cell_type": "markdown",
   "id": "defensive-columbus",
   "metadata": {},
   "source": [
    "### Generating a fibonacci series using next()"
   ]
  },
  {
   "cell_type": "code",
   "execution_count": 15,
   "id": "included-panama",
   "metadata": {},
   "outputs": [],
   "source": [
    "class fib:\n",
    "    def __init__(self):\n",
    "        self.start = 0\n",
    "        self.end = 1\n",
    "    def __iter__(self): # This class is also an iterator\n",
    "        return self\n",
    "    def __next__(self):\n",
    "        cur = self.start\n",
    "        self.start, self.end = self.end, self.end+cur\n",
    "        return cur"
   ]
  },
  {
   "cell_type": "code",
   "execution_count": 16,
   "id": "cutting-relation",
   "metadata": {},
   "outputs": [],
   "source": [
    "fibo_cur = fib() "
   ]
  },
  {
   "cell_type": "code",
   "execution_count": 17,
   "id": "optical-closer",
   "metadata": {},
   "outputs": [],
   "source": [
    "fibo_iter = iter(fibo_cur)"
   ]
  },
  {
   "cell_type": "code",
   "execution_count": 18,
   "id": "matched-installation",
   "metadata": {},
   "outputs": [
    {
     "name": "stdout",
     "output_type": "stream",
     "text": [
      "1\n",
      "0\n",
      "print next fib el?:1\n",
      "1\n",
      "print next fib el?:1\n",
      "1\n",
      "print next fib el?:1\n",
      "2\n",
      "print next fib el?:1\n",
      "3\n",
      "print next fib el?:1\n",
      "5\n",
      "print next fib el?:1\n",
      "8\n",
      "print next fib el?:1\n",
      "13\n",
      "print next fib el?:1\n",
      "21\n",
      "print next fib el?:0\n"
     ]
    }
   ],
   "source": [
    "toprint = int(input())\n",
    "while toprint == 1:\n",
    "    print(next(fibo_iter))\n",
    "    toprint = int(input('print next fib el?:'))"
   ]
  },
  {
   "cell_type": "code",
   "execution_count": 19,
   "id": "coral-ecology",
   "metadata": {},
   "outputs": [],
   "source": [
    "# another way to do this would be\n",
    "fibo_iter2 = iter(fib())"
   ]
  },
  {
   "cell_type": "code",
   "execution_count": 20,
   "id": "earlier-azerbaijan",
   "metadata": {},
   "outputs": [
    {
     "name": "stdout",
     "output_type": "stream",
     "text": [
      "0 1 1 2 3 5 8 13 21 34 "
     ]
    }
   ],
   "source": [
    "for x in range(10):\n",
    "    print(next(fibo_iter2),end = \" \")"
   ]
  },
  {
   "cell_type": "markdown",
   "id": "southeast-difference",
   "metadata": {},
   "source": [
    "## Another way of generating "
   ]
  },
  {
   "cell_type": "code",
   "execution_count": 295,
   "id": "portable-interference",
   "metadata": {},
   "outputs": [],
   "source": [
    "def fib2():\n",
    "    prev, cur = 0, 1\n",
    "    while True:\n",
    "        yield prev # If any function has this keyword yield, it becomes a generator function\n",
    "        prev,cur = cur, prev+cur"
   ]
  },
  {
   "cell_type": "code",
   "execution_count": 22,
   "id": "intermediate-punch",
   "metadata": {},
   "outputs": [
    {
     "name": "stdout",
     "output_type": "stream",
     "text": [
      "<class 'generator'>\n",
      "<class 'function'>\n"
     ]
    }
   ],
   "source": [
    "# fib2() is a generator while fib2 is a fn\n",
    "print(type(fib2()))\n",
    "print(type(fib2))"
   ]
  },
  {
   "cell_type": "code",
   "execution_count": 328,
   "id": "italic-invasion",
   "metadata": {},
   "outputs": [],
   "source": [
    "gen = fib() # Here we have to call the generator function, so that gen as an iterator could be passed to next"
   ]
  },
  {
   "cell_type": "code",
   "execution_count": 309,
   "id": "anonymous-difference",
   "metadata": {},
   "outputs": [
    {
     "name": "stdout",
     "output_type": "stream",
     "text": [
      "0 1 1 2 3 5 8 13 21 34 "
     ]
    }
   ],
   "source": [
    "for i in range(10):\n",
    "    print(next(gen),end = \" \")"
   ]
  },
  {
   "cell_type": "markdown",
   "id": "indonesian-smile",
   "metadata": {},
   "source": [
    "## Generator expression"
   ]
  },
  {
   "cell_type": "code",
   "execution_count": 335,
   "id": "foster-electricity",
   "metadata": {},
   "outputs": [],
   "source": [
    "# The sum of squares of first 10 natural numbers without any function\n",
    "gen_sum  = (x**2 for x in range(1,11)) "
   ]
  },
  {
   "cell_type": "markdown",
   "id": "incoming-merit",
   "metadata": {},
   "source": [
    "This is not tuple comprehension, this is a generator expression.\n",
    "- This is a bit different than gen function because\n",
    "  we need not call it. \n",
    "- As in, this is already a generator object.\n",
    "- Every generator is an iterator but vice versa is not true."
   ]
  },
  {
   "cell_type": "code",
   "execution_count": 336,
   "id": "spatial-location",
   "metadata": {},
   "outputs": [
    {
     "name": "stdout",
     "output_type": "stream",
     "text": [
      "1 4 9 16 25 36 49 64 81 100 "
     ]
    }
   ],
   "source": [
    "while True:\n",
    "    try:\n",
    "        print(next(gen_sum),end = ' ')\n",
    "    except:\n",
    "        break"
   ]
  }
 ],
 "metadata": {
  "kernelspec": {
   "display_name": "Python 3",
   "language": "python",
   "name": "python3"
  },
  "language_info": {
   "codemirror_mode": {
    "name": "ipython",
    "version": 3
   },
   "file_extension": ".py",
   "mimetype": "text/x-python",
   "name": "python",
   "nbconvert_exporter": "python",
   "pygments_lexer": "ipython3",
   "version": "3.9.1"
  }
 },
 "nbformat": 4,
 "nbformat_minor": 5
}
