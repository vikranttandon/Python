{
 "cells": [
  {
   "cell_type": "markdown",
   "id": "excess-tampa",
   "metadata": {},
   "source": [
    "# Iteration protocol in python\n",
    "\n",
    "- __Iteration__: Repitition of a process.\n",
    "- __Iterable__: A Python object which supports iteration\n",
    "- __Iterator__: A Python object to perform iteration over an iterable."
   ]
  },
  {
   "attachments": {
    "iterable-vs-iterator.png": {
     "image/png": "[encoded data removed]"
    }
   },
   "cell_type": "markdown",
   "id": "collectible-dylan",
   "metadata": {},
   "source": [
    "![iterable-vs-iterator.png](attachment:iterable-vs-iterator.png)"
   ]
  },
  {
   "cell_type": "code",
   "execution_count": 4,
   "id": "thrown-attitude",
   "metadata": {},
   "outputs": [],
   "source": [
    "# For an iterable object such as a list:\n",
    "x = [1,2,3]\n",
    "\n",
    "# Passing (the iterable) to a iter() fn will return us an iterator\n",
    "iterator = iter(x)"
   ]
  },
  {
   "cell_type": "code",
   "execution_count": 24,
   "id": "elementary-helicopter",
   "metadata": {},
   "outputs": [
    {
     "name": "stdout",
     "output_type": "stream",
     "text": [
      "<class 'list_iterator'>\n"
     ]
    }
   ],
   "source": [
    "print(type(iterator))"
   ]
  },
  {
   "cell_type": "code",
   "execution_count": 5,
   "id": "collaborative-keyboard",
   "metadata": {},
   "outputs": [
    {
     "name": "stdout",
     "output_type": "stream",
     "text": [
      "1\n"
     ]
    }
   ],
   "source": [
    "# To iterate, we pass it to next() fn\n",
    "print(next(iterator))"
   ]
  },
  {
   "cell_type": "code",
   "execution_count": 6,
   "id": "photographic-documentary",
   "metadata": {},
   "outputs": [
    {
     "name": "stdout",
     "output_type": "stream",
     "text": [
      "2\n"
     ]
    }
   ],
   "source": [
    "# Again passing it to the next() fn will give out the next element \n",
    "print(next(iterator))"
   ]
  },
  {
   "cell_type": "markdown",
   "id": "outer-smoke",
   "metadata": {},
   "source": [
    "Instance 2"
   ]
  },
  {
   "cell_type": "code",
   "execution_count": 25,
   "id": "dying-addition",
   "metadata": {},
   "outputs": [],
   "source": [
    "y = [1,2,3,4,5,6]\n",
    "iterator_2 = iter(y)"
   ]
  },
  {
   "cell_type": "code",
   "execution_count": 26,
   "id": "medieval-scholarship",
   "metadata": {},
   "outputs": [
    {
     "name": "stdout",
     "output_type": "stream",
     "text": [
      "1\n",
      "2\n",
      "3\n",
      "4\n",
      "5\n",
      "6\n"
     ]
    }
   ],
   "source": [
    "# This works until there is no more\n",
    "while iterator_2:\n",
    "    try:\n",
    "        print(next(iterator_2))\n",
    "    except:\n",
    "        break # Breaking here, so that no exception is raised on trying to print something that doesn't exist\n",
    "        # A StopIteration exception would have been raised otherwise"
   ]
  },
  {
   "cell_type": "markdown",
   "id": "fresh-wayne",
   "metadata": {},
   "source": [
    "## Iteration protocol in python\n",
    "\n",
    "__Iteration protocol__ : how iterables actually work in python\n",
    "1. For a class object to be an iterable\n",
    " - Can be passed to the __iter__ function to get an iterator for them\n",
    "2. For an iterator:\n",
    " - Can be passed to the __next__ function which gives their next item or raise StopIteration\n",
    " - Return themselves when passed to the __iter__ function."
   ]
  },
  {
   "cell_type": "markdown",
   "id": "satisfied-fundamentals",
   "metadata": {},
   "source": [
    "### Creating own Iterator"
   ]
  },
  {
   "cell_type": "code",
   "execution_count": 44,
   "id": "aware-transaction",
   "metadata": {},
   "outputs": [],
   "source": [
    "# The class is both iterable and iterator\n",
    "class yrange:\n",
    "    def __init__(self,end):\n",
    "        self.start = 0 # inclusive start\n",
    "        self.end = end # exclusive end\n",
    "        \n",
    "    def __iter__(self): # This method makes our class iterable\n",
    "        return self\n",
    "        \n",
    "    def __next__(self): # This method should be implemented by the iterator\n",
    "        if self.start < self.end:\n",
    "            start = self.start\n",
    "            self.start += 1\n",
    "            return start\n",
    "        else:\n",
    "            raise StopIteration()"
   ]
  },
  {
   "cell_type": "code",
   "execution_count": 45,
   "id": "alert-break",
   "metadata": {},
   "outputs": [
    {
     "name": "stdout",
     "output_type": "stream",
     "text": [
      "0 1 2 3 4 5 6 7 8 9 "
     ]
    }
   ],
   "source": [
    "for x in yrange(10):\n",
    "    print(x,end = ' ')"
   ]
  },
  {
   "cell_type": "code",
   "execution_count": 46,
   "id": "shared-contamination",
   "metadata": {},
   "outputs": [],
   "source": [
    "new_y = yrange(10)"
   ]
  },
  {
   "cell_type": "code",
   "execution_count": 47,
   "id": "ongoing-paintball",
   "metadata": {},
   "outputs": [],
   "source": [
    "iterator_new_y = iter(new_y)"
   ]
  },
  {
   "cell_type": "code",
   "execution_count": 49,
   "id": "spare-analyst",
   "metadata": {},
   "outputs": [
    {
     "name": "stdout",
     "output_type": "stream",
     "text": [
      "0\n",
      "1\n",
      "2\n",
      "3\n",
      "4\n",
      "5\n",
      "6\n",
      "7\n",
      "8\n",
      "9\n"
     ]
    }
   ],
   "source": [
    "while True:\n",
    "    try:\n",
    "        print(next(iterator_new_y))\n",
    "    except:\n",
    "        break"
   ]
  },
  {
   "cell_type": "markdown",
   "id": "peaceful-lawsuit",
   "metadata": {},
   "source": [
    "Here, we've written both __iter__ and __next__ in the same class which is a bad practice.\n",
    "Below is how we should implement it:"
   ]
  },
  {
   "cell_type": "code",
   "execution_count": 55,
   "id": "general-destruction",
   "metadata": {},
   "outputs": [],
   "source": [
    "class zrange:\n",
    "    def __init__(self,end):\n",
    "        self.end = end\n",
    "    def __iter__(self): # To make it iterable \n",
    "        return zrange_iter(self.end)\n",
    "class zrange_iter:\n",
    "    def __init__(self,end):\n",
    "        self.start = 0\n",
    "        self.end = end\n",
    "    def __iter__(self):\n",
    "        return self\n",
    "    def __next__(self): # This is from where we get its iterator\n",
    "        if self.start < self.end:\n",
    "            ans = self.start\n",
    "            self.start += 1\n",
    "            return ans\n",
    "        else:\n",
    "            raise StopIteration()"
   ]
  },
  {
   "cell_type": "code",
   "execution_count": 56,
   "id": "based-thompson",
   "metadata": {},
   "outputs": [
    {
     "name": "stdout",
     "output_type": "stream",
     "text": [
      "0 1 2 3 4 5 6 7 8 9 "
     ]
    }
   ],
   "source": [
    "for i in zrange(10):\n",
    "    print(i,end = ' ')"
   ]
  },
  {
   "cell_type": "markdown",
   "id": "engaged-borough",
   "metadata": {},
   "source": [
    "Here, we have a separate class __zrange_iter__ to make class __zrange__ an iterable and iterator.\n",
    "In the iter method defined in zrange, we pass the object created as an instance of zrange_iter which receives similar range.\n",
    " - Why do we do this?"
   ]
  },
  {
   "cell_type": "code",
   "execution_count": 68,
   "id": "tamil-province",
   "metadata": {},
   "outputs": [],
   "source": [
    "# For instance \n",
    "y_obj = yrange(10)"
   ]
  },
  {
   "cell_type": "code",
   "execution_count": 69,
   "id": "psychological-record",
   "metadata": {},
   "outputs": [
    {
     "name": "stdout",
     "output_type": "stream",
     "text": [
      "[0, 1, 2, 3, 4, 5, 6, 7, 8, 9]\n"
     ]
    }
   ],
   "source": [
    "# Although, y_obj is an iterable object but it can only be consumed once i.e\n",
    "y_aux_list = list(y_obj)\n",
    "print(y_aux_list)"
   ]
  },
  {
   "cell_type": "code",
   "execution_count": 70,
   "id": "reflected-distribution",
   "metadata": {},
   "outputs": [
    {
     "name": "stdout",
     "output_type": "stream",
     "text": [
      "[]\n"
     ]
    }
   ],
   "source": [
    "# If we again try to consume it\n",
    "y_aux_list2 = list(y_obj)\n",
    "print(y_aux_list2) # An empty list"
   ]
  },
  {
   "cell_type": "code",
   "execution_count": 66,
   "id": "close-inquiry",
   "metadata": {},
   "outputs": [],
   "source": [
    "# While the object of zrange can be consumed multiple times\n",
    "z_obj = zrange(10)"
   ]
  },
  {
   "cell_type": "code",
   "execution_count": 71,
   "id": "effective-parish",
   "metadata": {},
   "outputs": [
    {
     "name": "stdout",
     "output_type": "stream",
     "text": [
      "[0, 1, 2, 3, 4, 5, 6, 7, 8, 9]\n"
     ]
    }
   ],
   "source": [
    "z_aux_list = list(z_obj)\n",
    "print(z_aux_list)"
   ]
  },
  {
   "cell_type": "code",
   "execution_count": 72,
   "id": "unauthorized-velvet",
   "metadata": {},
   "outputs": [
    {
     "name": "stdout",
     "output_type": "stream",
     "text": [
      "[0, 1, 2, 3, 4, 5, 6, 7, 8, 9]\n"
     ]
    }
   ],
   "source": [
    "z_aux_list2 = list(z_obj)\n",
    "print(z_aux_list2) "
   ]
  },
  {
   "cell_type": "markdown",
   "id": "binary-extension",
   "metadata": {},
   "source": [
    "Why does this happen?\n",
    "- Because iterators and iterables are 2 different classes.\n",
    "- Everytime in zrange when we demand for an iterable object (to consume or for other purposes) from       iter method, we receive a new object each time (since we return an object by zrange_iter class).\n",
    "- This is the reason we are able to consume the object multiple times.\n",
    "  "
   ]
  }
 ],
 "metadata": {
  "kernelspec": {
   "display_name": "Python 3",
   "language": "python",
   "name": "python3"
  },
  "language_info": {
   "codemirror_mode": {
    "name": "ipython",
    "version": 3
   },
   "file_extension": ".py",
   "mimetype": "text/x-python",
   "name": "python",
   "nbconvert_exporter": "python",
   "pygments_lexer": "ipython3",
   "version": "3.9.1"
  }
 },
 "nbformat": 4,
 "nbformat_minor": 5
}
