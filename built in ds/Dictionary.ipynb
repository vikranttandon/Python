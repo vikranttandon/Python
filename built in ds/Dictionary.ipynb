{
 "cells": [
  {
   "cell_type": "markdown",
   "id": "emerging-vanilla",
   "metadata": {},
   "source": [
    "# Introduction"
   ]
  },
  {
   "cell_type": "code",
   "execution_count": 4,
   "id": "charitable-gates",
   "metadata": {},
   "outputs": [],
   "source": [
    "test_dict = {\n",
    "    'name' : 'astral', # a comma is nec\n",
    "    'age' : 21\n",
    "} "
   ]
  },
  {
   "cell_type": "code",
   "execution_count": 3,
   "id": "fuzzy-shower",
   "metadata": {},
   "outputs": [
    {
     "name": "stdout",
     "output_type": "stream",
     "text": [
      "<class 'dict'>\n"
     ]
    }
   ],
   "source": [
    "print(type(test_dict))"
   ]
  },
  {
   "cell_type": "code",
   "execution_count": 88,
   "id": "stunning-knitting",
   "metadata": {},
   "outputs": [
    {
     "name": "stdout",
     "output_type": "stream",
     "text": [
      "{'name': 'astral', 'level_x': 'medium', ('age', 'mood', 'song'): (21, 'lazy', 'jupiter_blues')}\n"
     ]
    }
   ],
   "source": [
    "# (key,value) pair where only an immutable data structure can become a key\n",
    "x = dict()\n",
    "# insertion in a dictionary\n",
    "x['name'] = 'astral'\n",
    "x['level_x'] = 'medium'\n",
    "a = 'age'\n",
    "b = 'mood'\n",
    "c = 'song'\n",
    "x[(a,b,c)] = 21,'lazy','jupiter_blues' # A tuple is an immutable ds, hence can be a key\n",
    "# A list can not be key\n",
    "print(x)"
   ]
  },
  {
   "cell_type": "code",
   "execution_count": 89,
   "id": "lovely-shoot",
   "metadata": {},
   "outputs": [
    {
     "name": "stdout",
     "output_type": "stream",
     "text": [
      "{'name': 'astral', 'level_x': 'medium', ('age', 'mood', 'song'): (21, 'lazy', 'jupiter_blues'), 'which_dict': 2, 'level_y': 'hard'}\n"
     ]
    }
   ],
   "source": [
    "# Adding a dict to another dict\n",
    "y = dict()\n",
    "y['which_dict'] = 2\n",
    "y['level_y'] = 'hard'\n",
    "\n",
    "x.update(y)\n",
    "\n",
    "print(x)"
   ]
  },
  {
   "cell_type": "markdown",
   "id": "fifteen-party",
   "metadata": {},
   "source": [
    "## Some Methods"
   ]
  },
  {
   "cell_type": "markdown",
   "id": "controversial-munich",
   "metadata": {},
   "source": [
    "get()\n",
    "items()\n",
    "keys()\n",
    "values()\n",
    "clear()"
   ]
  },
  {
   "cell_type": "code",
   "execution_count": 90,
   "id": "interesting-atlanta",
   "metadata": {},
   "outputs": [
    {
     "name": "stdout",
     "output_type": "stream",
     "text": [
      "(21, 'lazy', 'jupiter_blues')\n",
      "(21, 'lazy', 'jupiter_blues')\n"
     ]
    }
   ],
   "source": [
    "# get()\n",
    "# To receive the corresponding value of a key,which maybe a list,tuple,string,..\n",
    "print(x.get((a,b,c))) \n",
    "# which is similar to \n",
    "print(x[(a,b,c)])\n",
    "\n",
    "# but in case your key isn't present in the dictionary, x[..] will pop up error\n",
    "# .get(..) will just ignore so it is a safer method!"
   ]
  },
  {
   "cell_type": "code",
   "execution_count": 91,
   "id": "direct-morning",
   "metadata": {},
   "outputs": [
    {
     "name": "stdout",
     "output_type": "stream",
     "text": [
      "dict_items([('name', 'astral'), ('level_x', 'medium'), (('age', 'mood', 'song'), (21, 'lazy', 'jupiter_blues')), ('which_dict', 2), ('level_y', 'hard')])\n",
      "\n",
      "\n",
      "('name', 'astral')\n",
      "('level_x', 'medium')\n",
      "(('age', 'mood', 'song'), (21, 'lazy', 'jupiter_blues'))\n",
      "('which_dict', 2)\n",
      "('level_y', 'hard')\n",
      "\n",
      "\n",
      "name -> astral\n",
      "level_x -> medium\n",
      "('age', 'mood', 'song') -> (21, 'lazy', 'jupiter_blues')\n",
      "which_dict -> 2\n",
      "level_y -> hard\n"
     ]
    }
   ],
   "source": [
    "# items()\n",
    "\n",
    "print(x.items()) # list of tuples of Key - value pairs\n",
    "\n",
    "print('\\n')\n",
    "for cur_item in x.items():\n",
    "    # here cur_item is a tuple\n",
    "    print(cur_item)\n",
    "    \n",
    "print('\\n')\n",
    "for key,value in x.items():\n",
    "    print(key,\"->\",value)\n",
    "    \n"
   ]
  },
  {
   "cell_type": "code",
   "execution_count": 92,
   "id": "distant-practitioner",
   "metadata": {},
   "outputs": [
    {
     "name": "stdout",
     "output_type": "stream",
     "text": [
      "dict_keys(['name', 'level_x', ('age', 'mood', 'song'), 'which_dict', 'level_y'])\n",
      "\n",
      "\n",
      "dict_values(['astral', 'medium', (21, 'lazy', 'jupiter_blues'), 2, 'hard'])\n",
      "\n",
      "\n"
     ]
    }
   ],
   "source": [
    "print(x.keys()) #get all keys of a dict\n",
    "\n",
    "print('\\n')\n",
    "print(x.values()) #get all values of a dict\n",
    "\n",
    "print('\\n')\n",
    "x.clear() #clear dict"
   ]
  },
  {
   "cell_type": "code",
   "execution_count": 93,
   "id": "fourth-fraction",
   "metadata": {},
   "outputs": [],
   "source": [
    "del x"
   ]
  },
  {
   "cell_type": "markdown",
   "id": "useful-worry",
   "metadata": {},
   "source": [
    "A problem "
   ]
  },
  {
   "cell_type": "code",
   "execution_count": 94,
   "id": "frequent-restaurant",
   "metadata": {
    "scrolled": true
   },
   "outputs": [
    {
     "name": "stdout",
     "output_type": "stream",
     "text": [
      "1\n",
      "1201\n",
      "astralboi\n",
      "cse\n"
     ]
    }
   ],
   "source": [
    "x = []\n",
    "n = int(input())\n",
    "for i in range(n):\n",
    "    a = int(input())\n",
    "    b = input()\n",
    "    c = input()\n",
    "    y = {\n",
    "        'roll_no' : a,\n",
    "        'name' : b,\n",
    "        'course' : c\n",
    "    }\n",
    "    x.append(y)"
   ]
  },
  {
   "cell_type": "code",
   "execution_count": 80,
   "id": "difficult-satellite",
   "metadata": {},
   "outputs": [
    {
     "name": "stdout",
     "output_type": "stream",
     "text": [
      "roll_no -> 1201\n",
      "name -> astralboi\n",
      "course -> cse\n"
     ]
    }
   ],
   "source": [
    "for i in x: # x is a list of dictionaries\n",
    "    for jk,jv in i.items(): # i is current dict\n",
    "        print(jk,\"->\",jv)"
   ]
  }
 ],
 "metadata": {
  "kernelspec": {
   "display_name": "Python 3",
   "language": "python",
   "name": "python3"
  },
  "language_info": {
   "codemirror_mode": {
    "name": "ipython",
    "version": 3
   },
   "file_extension": ".py",
   "mimetype": "text/x-python",
   "name": "python",
   "nbconvert_exporter": "python",
   "pygments_lexer": "ipython3",
   "version": "3.9.1"
  }
 },
 "nbformat": 4,
 "nbformat_minor": 5
}
