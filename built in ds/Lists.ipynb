{
 "cells": [
  {
   "cell_type": "markdown",
   "id": "comfortable-sugar",
   "metadata": {},
   "source": [
    "# Introduction "
   ]
  },
  {
   "cell_type": "code",
   "execution_count": 1,
   "id": "chicken-ivory",
   "metadata": {},
   "outputs": [],
   "source": [
    "a = [0]*100 # This will create a list of 100 spaces filled with value 0\n",
    "# But this can be accessed using indexing to further update the value of the list"
   ]
  },
  {
   "cell_type": "code",
   "execution_count": 66,
   "id": "contrary-intersection",
   "metadata": {},
   "outputs": [
    {
     "name": "stdout",
     "output_type": "stream",
     "text": [
      "[1, 2, 3, 10, 20, 6]\n",
      "[1, 2, 3, 10, 20, 'astral', 'projected']\n"
     ]
    }
   ],
   "source": [
    "#creating a list \n",
    "a = list() # or a = [] or a = [1,2,3,4]\n",
    "b = [1,2,3,4,5,6]\n",
    "# mutable, can be accessed by index\n",
    "b[3] = 10\n",
    "b[4] = 20\n",
    "print(b)\n",
    "\n",
    "# heterogeneous\n",
    "b[5] = \"astral\"\n",
    "b.append(\"projected\") # only list allows append (tuples dont allow)\n",
    "print(b)"
   ]
  },
  {
   "cell_type": "code",
   "execution_count": 67,
   "id": "colored-transport",
   "metadata": {},
   "outputs": [
    {
     "name": "stdout",
     "output_type": "stream",
     "text": [
      "1\n",
      "2\n",
      "3\n",
      "10\n",
      "20\n",
      "astral\n",
      "projected\n"
     ]
    }
   ],
   "source": [
    "# they are iterable\n",
    "for i in b:\n",
    "    print(i)"
   ]
  },
  {
   "cell_type": "markdown",
   "id": "pregnant-illustration",
   "metadata": {},
   "source": [
    "# Indexing and Slicing"
   ]
  },
  {
   "cell_type": "code",
   "execution_count": null,
   "id": "minimal-stanley",
   "metadata": {},
   "outputs": [],
   "source": [
    "# allows forward and backward indexing\n",
    "for i in range(11):\n",
    "    a.append(i)"
   ]
  },
  {
   "cell_type": "code",
   "execution_count": 94,
   "id": "generic-manhattan",
   "metadata": {},
   "outputs": [
    {
     "name": "stdout",
     "output_type": "stream",
     "text": [
      "[0, 1, 2, 3, 4, 5, 6, 7, 8, 9, 10]\n",
      "last element of a is 10\n",
      "first element of a is 0\n"
     ]
    }
   ],
   "source": [
    "# Forward indexing starts from: 0 and ends at: n-1\n",
    "# list[i:j] where [i,j) i.e i is inclusive and j is exclusive\n",
    "print(a[0:len(a)]) # slicing i.e it returns a subarray \n",
    "\n",
    "# Backward indexing starts from: -1 and ends at: (-1)*n\n",
    "print(f\"last element of a is {a[-1]}\")\n",
    "end = (-1)*len(a)\n",
    "print(f\"first element of a is {a[end]}\")"
   ]
  },
  {
   "cell_type": "code",
   "execution_count": 96,
   "id": "second-holmes",
   "metadata": {},
   "outputs": [
    {
     "name": "stdout",
     "output_type": "stream",
     "text": [
      "with a jump of 1\n",
      "[0, 1, 2, 3, 4, 5, 6, 7, 8, 9, 10]\n",
      "with a jump of 2\n",
      "[0, 2, 4, 6, 8, 10]\n",
      "with a jump of 3\n",
      "[0, 3, 6, 9]\n",
      "Reversed list a: [10, 9, 8, 7, 6, 5, 4, 3, 2, 1, 0]\n"
     ]
    }
   ],
   "source": [
    "# slicing returns a list based on the arguments: range(i,j) and jumpof \n",
    "for i in range(3):\n",
    "    jumpof = i+1\n",
    "    print(f\"with a jump of {jumpof}\")\n",
    "    print(a[0:len(a):jumpof])\n",
    "\n",
    "# reversing a list\n",
    "rev_a = a[::-1]\n",
    "print(\"Reversed list a:\",rev_a)\n"
   ]
  },
  {
   "cell_type": "code",
   "execution_count": 119,
   "id": "hybrid-being",
   "metadata": {},
   "outputs": [],
   "source": [
    "# Allows .insert(), .remove(), .pop(), .del(), \n",
    "# .reverse(), reversed(list_as_arg) as well"
   ]
  },
  {
   "cell_type": "code",
   "execution_count": 122,
   "id": "assumed-yugoslavia",
   "metadata": {},
   "outputs": [
    {
     "name": "stdout",
     "output_type": "stream",
     "text": [
      "0\n",
      "1\n",
      "2\n",
      "3\n",
      "4\n",
      "5\n",
      "6\n",
      "7\n",
      "8\n",
      "9\n",
      "10\n"
     ]
    }
   ],
   "source": [
    "#x = reversed(a)\n",
    "#for i in x:\n",
    "#    print(i)\n",
    "\n",
    "# or simply \n",
    "for i in reversed(a):\n",
    "    print(i)"
   ]
  },
  {
   "cell_type": "code",
   "execution_count": 131,
   "id": "electric-journal",
   "metadata": {},
   "outputs": [
    {
     "name": "stdout",
     "output_type": "stream",
     "text": [
      "[0, 1, 2, 3, 4, 5, 6, 7, 8, 9, 10]\n"
     ]
    }
   ],
   "source": [
    "# for in place reversing \n",
    "a.reverse() # doesnt return a list\n",
    "print(a) "
   ]
  },
  {
   "cell_type": "markdown",
   "id": "editorial-touch",
   "metadata": {},
   "source": [
    "#### "
   ]
  }
 ],
 "metadata": {
  "kernelspec": {
   "display_name": "Python 3",
   "language": "python",
   "name": "python3"
  },
  "language_info": {
   "codemirror_mode": {
    "name": "ipython",
    "version": 3
   },
   "file_extension": ".py",
   "mimetype": "text/x-python",
   "name": "python",
   "nbconvert_exporter": "python",
   "pygments_lexer": "ipython3",
   "version": "3.9.1"
  }
 },
 "nbformat": 4,
 "nbformat_minor": 5
}
