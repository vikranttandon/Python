{
 "cells": [
  {
   "cell_type": "markdown",
   "id": "structured-isaac",
   "metadata": {},
   "source": [
    "Filling up a ds based on a certain condition can be taken care of in a single line, this is known as comprehension of ds"
   ]
  },
  {
   "cell_type": "code",
   "execution_count": 3,
   "id": "continued-satisfaction",
   "metadata": {},
   "outputs": [
    {
     "name": "stdout",
     "output_type": "stream",
     "text": [
      "[0, 1, 4, 9, 16, 25, 36, 49, 64, 81]\n"
     ]
    }
   ],
   "source": [
    "# For a list\n",
    "# To get squares of first n numbers \n",
    "list_a = []\n",
    "for i in range(10):\n",
    "    list_a.append(i**2)\n",
    "print(list_a)"
   ]
  },
  {
   "cell_type": "code",
   "execution_count": 5,
   "id": "romantic-morris",
   "metadata": {},
   "outputs": [
    {
     "name": "stdout",
     "output_type": "stream",
     "text": [
      "[0, 1, 4, 9, 16, 25, 36, 49, 64, 81]\n"
     ]
    }
   ],
   "source": [
    "list_b = [i**2 for i in range(10)]\n",
    "print(list_b)"
   ]
  },
  {
   "cell_type": "code",
   "execution_count": 6,
   "id": "genetic-stack",
   "metadata": {},
   "outputs": [
    {
     "name": "stdout",
     "output_type": "stream",
     "text": [
      "[0, 4, 16, 36, 64]\n"
     ]
    }
   ],
   "source": [
    "# To get a list of squares of first n numbers (only even numbers)\n",
    "list_even = [i**2 for i in range(10) if i%2==0]\n",
    "print(list_even)"
   ]
  },
  {
   "cell_type": "code",
   "execution_count": 8,
   "id": "greenhouse-blake",
   "metadata": {},
   "outputs": [
    {
     "name": "stdout",
     "output_type": "stream",
     "text": [
      "{0: 0, 2: 4, 4: 16, 6: 36, 8: 64}\n"
     ]
    }
   ],
   "source": [
    "# For a dict\n",
    "dict_a = {i:i**2 for i in range(10) if i%2==0}\n",
    "print(dict_a)"
   ]
  },
  {
   "cell_type": "code",
   "execution_count": 9,
   "id": "worthy-redhead",
   "metadata": {},
   "outputs": [
    {
     "name": "stdout",
     "output_type": "stream",
     "text": [
      "{0, 64, 4, 36, 16}\n"
     ]
    }
   ],
   "source": [
    "# For a set\n",
    "set_a = set()\n",
    "set_a = {i**2 for i in range(10) if i%2==0}"
   ]
  },
  {
   "cell_type": "code",
   "execution_count": 11,
   "id": "metallic-individual",
   "metadata": {},
   "outputs": [
    {
     "data": {
      "text/plain": [
       "generator"
      ]
     },
     "execution_count": 11,
     "metadata": {},
     "output_type": "execute_result"
    }
   ],
   "source": [
    "# For a tuple \n",
    "# Even though this works, but the collection of elements is called a generator and not a tuple\n",
    "tup_a = (i**2 for i in range(10))\n",
    "type(tup_a)"
   ]
  }
 ],
 "metadata": {
  "kernelspec": {
   "display_name": "Python 3",
   "language": "python",
   "name": "python3"
  },
  "language_info": {
   "codemirror_mode": {
    "name": "ipython",
    "version": 3
   },
   "file_extension": ".py",
   "mimetype": "text/x-python",
   "name": "python",
   "nbconvert_exporter": "python",
   "pygments_lexer": "ipython3",
   "version": "3.9.1"
  }
 },
 "nbformat": 4,
 "nbformat_minor": 5
}
