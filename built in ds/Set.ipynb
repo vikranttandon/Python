{
 "cells": [
  {
   "cell_type": "markdown",
   "id": "durable-sheet",
   "metadata": {},
   "source": [
    "# Introduction"
   ]
  },
  {
   "cell_type": "code",
   "execution_count": 16,
   "id": "surrounded-headline",
   "metadata": {},
   "outputs": [
    {
     "name": "stdout",
     "output_type": "stream",
     "text": [
      "<class 'dict'>\n",
      "<class 'set'>\n"
     ]
    }
   ],
   "source": [
    "# Set doesn't maintain the order of insertion of elements\n",
    "# Purpose of using set is to keep a track of what all elements exist in a collection\n",
    "# A set doesn't keep count of duplicates/how many times an object has occured \n",
    "\n",
    "# set doesnt support indexing!\n",
    "\n",
    "#creation\n",
    "\n",
    "set_a = { } # A set also gets covered by curly braces \n",
    "print(type(set_a)) # But an empty pair of braces would indicate a dictionary!\n",
    "\n",
    "set_a = {1,2,3,4} # If elements are put in the collection at the time of declaration \n",
    "print(type(set_a)) # The collection becomes a set\n",
    "\n",
    "# Another way of declaration is \n",
    "set_b = set()"
   ]
  },
  {
   "cell_type": "markdown",
   "id": "allied-library",
   "metadata": {},
   "source": [
    "## Some Methods"
   ]
  },
  {
   "cell_type": "markdown",
   "id": "prime-india",
   "metadata": {},
   "source": [
    ".union()\n",
    ".intersection()"
   ]
  },
  {
   "cell_type": "code",
   "execution_count": 17,
   "id": "verbal-power",
   "metadata": {},
   "outputs": [
    {
     "name": "stdout",
     "output_type": "stream",
     "text": [
      "{1, 2, 3, 4, 5, 6, 7, 8, 12, 14, 15, 20, 31} \n",
      " {8, 6}\n",
      "{1, 2, 3, 4, 5, 7}\n"
     ]
    }
   ],
   "source": [
    "set_a = {1,2,3,4,5,6,7,8}\n",
    "set_b = {20,14,15,31,14,12,6,8} # will get rid of duplicates\n",
    "\n",
    "set_un = set_a.union(set_b)\n",
    "set_in = set_a.intersection(set_b)\n",
    "\n",
    "print(set_un,\"\\n\",set_in) \n",
    "\n",
    "set_c = set_a - set_b #To get rid of common elements of set_a and set_b from set_a\n",
    "print(set_c)"
   ]
  },
  {
   "cell_type": "code",
   "execution_count": 23,
   "id": "sorted-louisiana",
   "metadata": {},
   "outputs": [
    {
     "name": "stdout",
     "output_type": "stream",
     "text": [
      "8 \n",
      "\n",
      "1\n",
      "2\n",
      "3\n",
      "4\n",
      "5\n",
      "6\n",
      "7\n",
      "8\n"
     ]
    }
   ],
   "source": [
    "# Doesn't support indexing \n",
    "# but we can iterate a set\n",
    "print(len(set_a),'\\n')\n",
    "for i in set_a:\n",
    "    print(i)"
   ]
  },
  {
   "cell_type": "markdown",
   "id": "single-salad",
   "metadata": {},
   "source": [
    "To remove duplicates from a list"
   ]
  },
  {
   "cell_type": "code",
   "execution_count": 26,
   "id": "black-shepherd",
   "metadata": {},
   "outputs": [
    {
     "name": "stdout",
     "output_type": "stream",
     "text": [
      "[1, 2, 3, 4, 5, 14]\n"
     ]
    }
   ],
   "source": [
    "list_a = [1,2,3,4,1,2,3,5,14,3,2,3,4,1,1,2,5,2,4,3] # deduplicating the list\n",
    "# a simple operation would be to convert the list to a set and then convert that \n",
    "# set back to a list\n",
    "list_a = list(set(list_a))\n",
    "print(list_a)\n",
    "\n",
    "# Here, we assume that we the order of elements doesn't matter "
   ]
  }
 ],
 "metadata": {
  "kernelspec": {
   "display_name": "Python 3",
   "language": "python",
   "name": "python3"
  },
  "language_info": {
   "codemirror_mode": {
    "name": "ipython",
    "version": 3
   },
   "file_extension": ".py",
   "mimetype": "text/x-python",
   "name": "python",
   "nbconvert_exporter": "python",
   "pygments_lexer": "ipython3",
   "version": "3.9.1"
  }
 },
 "nbformat": 4,
 "nbformat_minor": 5
}
