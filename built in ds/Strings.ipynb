{
 "cells": [
  {
   "cell_type": "markdown",
   "id": "earned-basement",
   "metadata": {},
   "source": [
    "  # immutable strings"
   ]
  },
  {
   "cell_type": "code",
   "execution_count": 1,
   "id": "young-oasis",
   "metadata": {},
   "outputs": [
    {
     "name": "stdout",
     "output_type": "stream",
     "text": [
      "PROJECTEDstrPROJECTEDla\n"
     ]
    }
   ],
   "source": [
    "a = \"astrala\" \n",
    "aux = a.replace('a',\"PROJECTED\",2)\n",
    "print(aux)"
   ]
  },
  {
   "cell_type": "markdown",
   "id": "higher-alexandria",
   "metadata": {},
   "source": [
    "  # operations "
   ]
  },
  {
   "cell_type": "markdown",
   "id": "resident-cycle",
   "metadata": {},
   "source": [
    "### Formating"
   ]
  },
  {
   "cell_type": "code",
   "execution_count": 23,
   "id": "exposed-height",
   "metadata": {},
   "outputs": [
    {
     "name": "stdout",
     "output_type": "stream",
     "text": [
      "1-2-3\n"
     ]
    }
   ],
   "source": [
    " # to be able to print numbers with a '-' in bw them \n",
    "a=1\n",
    "b=2\n",
    "c=3\n",
    "# one way to go is\n",
    "aux = str(a)+'-'+str(b)+'-'+str(c)\n",
    "print(aux)"
   ]
  },
  {
   "cell_type": "code",
   "execution_count": 26,
   "id": "beneficial-caribbean",
   "metadata": {},
   "outputs": [
    {
     "name": "stdout",
     "output_type": "stream",
     "text": [
      "1-2-3\n"
     ]
    }
   ],
   "source": [
    "# another way:\n",
    "aux1 = \"%d-%d-%d\" %(a,b,c)\n",
    "print(aux1)\n",
    "# this way of formatting strings has restrictions, such as what if in place of int, variable a has str val\n",
    "# i.e \n",
    "d = 'astral'\n",
    "# print(\"%d-%d-%d-%d\" %(a,b,c,d)) will pop up error"
   ]
  },
  {
   "cell_type": "code",
   "execution_count": 27,
   "id": "civil-publisher",
   "metadata": {},
   "outputs": [
    {
     "name": "stdout",
     "output_type": "stream",
     "text": [
      "1-2-3-astral\n",
      "astral-1-3-2\n",
      "projected appears before astral\n",
      "astral-1-2-3\n"
     ]
    }
   ],
   "source": [
    "# another way \n",
    "aux2 = \"{}-{}-{}-{}\".format(a,b,c,d) #this works even for a case discussed above \n",
    "print(aux2)\n",
    "\n",
    "# we can even specify the positions of variables getting formatted (0 - based indexing)\n",
    "aux3 = \"{3}-{0}-{2}-{1}\".format(a,b,c,d)\n",
    "print(aux3)\n",
    "\n",
    "# providing values to the arguments of format..\n",
    "aux4 = \"{lastname} appears before {firstname}\".format(firstname = \"astral\",lastname = \"projected\")\n",
    "print(aux4)\n",
    "\n",
    "#simplification\n",
    "aux5 = f\"{d}-{a}-{b}-{c}\"\n",
    "print(aux5)"
   ]
  },
  {
   "cell_type": "markdown",
   "id": "broadband-victor",
   "metadata": {},
   "source": [
    "### strip "
   ]
  },
  {
   "cell_type": "code",
   "execution_count": 2,
   "id": "narrow-gallery",
   "metadata": {},
   "outputs": [
    {
     "name": "stdout",
     "output_type": "stream",
     "text": [
      "                                  astral_projected   \n",
      "astral_projected\n"
     ]
    }
   ],
   "source": [
    "#get rid of spaces \n",
    "aux = \"                                  astral_projected   \"\n",
    "print(aux)\n",
    "aux = aux.strip()\n",
    "print(aux)"
   ]
  },
  {
   "cell_type": "markdown",
   "id": "broadband-weekly",
   "metadata": {},
   "source": [
    "### split "
   ]
  },
  {
   "cell_type": "code",
   "execution_count": 10,
   "id": "consolidated-japan",
   "metadata": {},
   "outputs": [
    {
     "name": "stdout",
     "output_type": "stream",
     "text": [
      "a s SOS tSOS ral PROSOS jected\n",
      "['a s ', ' t', ' ral PRO', ' jected'] ['a', 's', 'SOS', 'tSOS', 'ral', 'PROSOS', 'jected']\n"
     ]
    }
   ],
   "source": [
    "a = input() # will always be of string type if not mentioned\n",
    "# splitting each character based on '?' character, will pack elements in a list\n",
    "x = a.split(\"SOS\") # tokenizing based on \"SOS\" substring, could be a space as well\n",
    "y = a.split(\" \")\n",
    "print(x,y)"
   ]
  },
  {
   "cell_type": "markdown",
   "id": "earlier-rogers",
   "metadata": {},
   "source": [
    "### slice"
   ]
  },
  {
   "cell_type": "code",
   "execution_count": 4,
   "id": "rapid-tumor",
   "metadata": {},
   "outputs": [
    {
     "name": "stdout",
     "output_type": "stream",
     "text": [
      "astral_projected\n",
      "substring of string astral_projected from range (2,6] is tral\n",
      "reverse of string astral_projected is detcejorp_lartsa\n"
     ]
    }
   ],
   "source": [
    "s = str()\n",
    "s = input()\n",
    "\n",
    "# We can get a substring out of a string using slicing (it returns a substring)\n",
    "substr = s[2:6]\n",
    "print(f\"substring of string {s} from range [2,6) is\",substr)\n",
    "\n",
    "# We can reverse the string using slice operation, since backward indexing is \n",
    "# also allowed\n",
    "rev_s = s[::-1]\n",
    "print(f\"reverse of string {s} is\",rev_s)"
   ]
  },
  {
   "cell_type": "markdown",
   "id": "objective-vector",
   "metadata": {},
   "source": [
    "### count & len"
   ]
  },
  {
   "cell_type": "code",
   "execution_count": 28,
   "id": "sophisticated-workplace",
   "metadata": {},
   "outputs": [
    {
     "name": "stdout",
     "output_type": "stream",
     "text": [
      "15\n",
      "2\n"
     ]
    }
   ],
   "source": [
    "a = \"astralprojected\" \n",
    "length = len(a) \n",
    "print(length) \n",
    "count_char = a.count('a') \n",
    "print(count_char)"
   ]
  }
 ],
 "metadata": {
  "kernelspec": {
   "display_name": "Python 3",
   "language": "python",
   "name": "python3"
  },
  "language_info": {
   "codemirror_mode": {
    "name": "ipython",
    "version": 3
   },
   "file_extension": ".py",
   "mimetype": "text/x-python",
   "name": "python",
   "nbconvert_exporter": "python",
   "pygments_lexer": "ipython3",
   "version": "3.9.1"
  }
 },
 "nbformat": 4,
 "nbformat_minor": 5
}
