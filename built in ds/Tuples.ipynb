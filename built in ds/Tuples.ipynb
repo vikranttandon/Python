{
 "cells": [
  {
   "cell_type": "markdown",
   "id": "bottom-spirituality",
   "metadata": {},
   "source": [
    "# Introduction"
   ]
  },
  {
   "cell_type": "code",
   "execution_count": null,
   "id": "intensive-thought",
   "metadata": {},
   "outputs": [],
   "source": [
    "# Tuples are immutable i.e no item assignment\n",
    "# This maybe the only difference between a tuple and a list\n",
    "# Then why useful?\n",
    "# 1> These are much more performant than a list, in terms of memory and processing time"
   ]
  },
  {
   "cell_type": "code",
   "execution_count": 9,
   "id": "united-producer",
   "metadata": {},
   "outputs": [
    {
     "name": "stdout",
     "output_type": "stream",
     "text": [
      "(1, 2, 3, 4, 5)\n"
     ]
    }
   ],
   "source": [
    "# 2> comes in use for packing arguments in a function \n",
    "def func(*args):\n",
    "    print(args) # here, args is of class tuple\n",
    "\n",
    "func(1,2,3,4,5) "
   ]
  },
  {
   "cell_type": "code",
   "execution_count": 30,
   "id": "hourly-dylan",
   "metadata": {},
   "outputs": [
    {
     "name": "stdout",
     "output_type": "stream",
     "text": [
      "((1, 2, 3, 4, 5),)\n",
      "(1, 2, 3, 4, 5)\n"
     ]
    }
   ],
   "source": [
    "def func1(*new_args):\n",
    "    print(new_args)\n",
    "\n",
    "def func(*args):\n",
    "    func1(args)  # new_args will be a tuple of tuple \n",
    "    func1(*args) # new_args will be a tuple \n",
    "\n",
    "func(1,2,3,4,5)\n",
    "\n",
    "# The purpose of *args is to pack all arguments passed in a function call\n",
    "# a> If we pass args further to another function, since args is a tuple itself \n",
    "# therefore, new_args will pack the tuple args into a tuple!\n",
    "\n",
    "# b> If we pass *args further to another function, since *args inflates arguments\n",
    "# into a tuple args,similarly *args will inflate elements present in tuple into \n",
    "# *new_args which will eventually convert/inflate them into tuple new_args "
   ]
  },
  {
   "cell_type": "markdown",
   "id": "binary-demand",
   "metadata": {},
   "source": [
    "## swap"
   ]
  },
  {
   "cell_type": "code",
   "execution_count": 32,
   "id": "animal-madagascar",
   "metadata": {},
   "outputs": [
    {
     "name": "stdout",
     "output_type": "stream",
     "text": [
      "before : 10 20\n",
      "after : 20 10\n"
     ]
    }
   ],
   "source": [
    "# way 1 is using an aux variable\n",
    "# way 2:\n",
    "a = 10\n",
    "b = 20\n",
    "print(\"before :\",a,b)\n",
    "a = a+b # a = 30\n",
    "b = a-b # b = 30 - 20 = 10\n",
    "a = a-b # a = 30 - 10 = 20\n",
    "print(\"after :\",a,b)"
   ]
  },
  {
   "cell_type": "code",
   "execution_count": 68,
   "id": "statistical-singles",
   "metadata": {},
   "outputs": [
    {
     "name": "stdout",
     "output_type": "stream",
     "text": [
      "<class 'tuple'>\n",
      "1 2 3 4\n"
     ]
    }
   ],
   "source": [
    "#way 3 is using tuples\n",
    "#since, tuples can be created without using any brackets, i.e just separating\n",
    "# by commas will be as effective as using brackets along w it\n",
    "a = 1,2,3,4\n",
    "print(type(a))\n",
    "\n",
    "l,m,n,o = a #unpacking a tuple\n",
    "print(l,m,n,o) "
   ]
  },
  {
   "cell_type": "code",
   "execution_count": 78,
   "id": "norwegian-player",
   "metadata": {},
   "outputs": [
    {
     "name": "stdout",
     "output_type": "stream",
     "text": [
      "<class 'tuple'>\n",
      "(1, 2, 3)\n",
      "before:  10 20\n",
      "after:  20 10\n"
     ]
    }
   ],
   "source": [
    "# We can also take multiple inputs, i.e\n",
    "t = x,y,z\n",
    "x,y,z = 1,2,3\n",
    "print(type(t)) \n",
    "print(t)\n",
    "\n",
    "# This is the property which helps us in swapping values without much effort\n",
    "a = 10\n",
    "b = 20\n",
    "print(\"before: \",a,b)\n",
    "a,b = b,a\n",
    "print(\"after: \",a,b)"
   ]
  },
  {
   "cell_type": "markdown",
   "id": "bronze-replication",
   "metadata": {},
   "source": [
    "## Tuple To A List"
   ]
  },
  {
   "cell_type": "code",
   "execution_count": 84,
   "id": "faced-aggregate",
   "metadata": {},
   "outputs": [
    {
     "name": "stdout",
     "output_type": "stream",
     "text": [
      "<class 'tuple'>\n",
      "(1, 2, 3, 4, 5)\n",
      "<class 'list'>\n",
      "[1, 2, 3, 4, 5]\n"
     ]
    }
   ],
   "source": [
    "a = 1,2,3,4,5\n",
    "print(type(a))\n",
    "print(a)\n",
    "\n",
    "b = list(a)\n",
    "print(type(b))\n",
    "print(b)\n",
    "#This works vice versa, even works for a string "
   ]
  },
  {
   "cell_type": "markdown",
   "id": "athletic-friday",
   "metadata": {},
   "source": [
    "## Returning Multiple Values From Functions"
   ]
  },
  {
   "cell_type": "code",
   "execution_count": 86,
   "id": "distinct-celebrity",
   "metadata": {},
   "outputs": [],
   "source": [
    "def sum_mul_div_sub(a,b):\n",
    "    return a+b,a*b,a/b,a-b #works without bracks"
   ]
  },
  {
   "cell_type": "code",
   "execution_count": 88,
   "id": "published-triangle",
   "metadata": {},
   "outputs": [
    {
     "name": "stdout",
     "output_type": "stream",
     "text": [
      "<class 'tuple'>\n",
      "(602, 60325, 3.7401574803149606, 348)\n",
      "6086 6315193 3.586284853051997 3432\n"
     ]
    }
   ],
   "source": [
    "x = sum_mul_div_sub(475,127)\n",
    "print(type(x))\n",
    "print(x)\n",
    "\n",
    "#can even receive it:\n",
    "Sum,Mul,Div,Sub = sum_mul_div_sub(4759,1327)\n",
    "print(Sum,Mul,Div,Sub)"
   ]
  }
 ],
 "metadata": {
  "kernelspec": {
   "display_name": "Python 3",
   "language": "python",
   "name": "python3"
  },
  "language_info": {
   "codemirror_mode": {
    "name": "ipython",
    "version": 3
   },
   "file_extension": ".py",
   "mimetype": "text/x-python",
   "name": "python",
   "nbconvert_exporter": "python",
   "pygments_lexer": "ipython3",
   "version": "3.9.1"
  }
 },
 "nbformat": 4,
 "nbformat_minor": 5
}
